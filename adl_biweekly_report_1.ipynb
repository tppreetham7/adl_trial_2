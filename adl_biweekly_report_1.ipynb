{
  "cells": [
    {
      "cell_type": "markdown",
      "metadata": {
        "id": "AJXt6ny3vYxB"
      },
      "source": [
        "# **Applied Deep Learning - Bi-weekly report 1 - Word Representations**\n",
        "Preetham Prashanth Thava\n",
        "\n",
        "\n"
      ]
    },
    {
      "cell_type": "markdown",
      "metadata": {
        "id": "yCpOvqi7prMk"
      },
      "source": [
        "In this biweekly report, I have used the word-analogy dataset from Microsoft https://www.microsoft.com/en-us/research/project/recurrent-neural-networks-for-language-processing/downloads/. This dataset was used mainly for computing syntactic similarities in between words of the form 'a is to b as c is to ?'. Finding the answer to '?' was the aim of this experiment. In the paper 'Linguistic Regularities in continuous space word representations', multiple language models are compared in predicting the vector closest to the answer of the analogy questions from the dataset. \n",
        "\n",
        "We can generate word vector representations for all words in the dataset, and then perform basic vector arithmetic operations to evaluate the answer to '?', through the Vector-Offset method.\n"
      ]
    },
    {
      "cell_type": "markdown",
      "metadata": {
        "id": "VThb-vnqprMl"
      },
      "source": [
        "## Importing required libraries"
      ]
    },
    {
      "cell_type": "code",
      "execution_count": 2,
      "metadata": {
        "_cell_guid": "b1076dfc-b9ad-4769-8c92-a6c4dae69d19",
        "_kg_hide-input": true,
        "_uuid": "8f2839f25d086af736a60e9eeb907d3b93b6e0e5",
        "execution": {
          "iopub.execute_input": "2023-02-01T08:24:05.489007Z",
          "iopub.status.busy": "2023-02-01T08:24:05.488681Z",
          "iopub.status.idle": "2023-02-01T08:24:05.496355Z",
          "shell.execute_reply": "2023-02-01T08:24:05.495613Z",
          "shell.execute_reply.started": "2023-02-01T08:24:05.488952Z"
        },
        "id": "P4N0LWwfprMl",
        "trusted": true
      },
      "outputs": [],
      "source": [
        "import numpy as np # for linear algebra\n",
        "import pandas as pd # data processing, space separated file I/O (e.g. pd.read_csv)\n",
        "import gensim\n",
        "import matplotlib.pyplot as plt\n",
        "%matplotlib inline\n",
        "import gensim.downloader"
      ]
    },
    {
      "cell_type": "code",
      "execution_count": 4,
      "metadata": {
        "_cell_guid": "79c7e3d0-c299-4dcb-8224-4455121ee9b0",
        "_uuid": "d629ff2d2480ee46fbb7e2d37f6b5fab8052498a",
        "colab": {
          "base_uri": "https://localhost:8080/",
          "height": 206
        },
        "execution": {
          "iopub.execute_input": "2023-02-01T08:26:12.039681Z",
          "iopub.status.busy": "2023-02-01T08:26:12.039350Z",
          "iopub.status.idle": "2023-02-01T08:26:12.073282Z",
          "shell.execute_reply": "2023-02-01T08:26:12.072402Z",
          "shell.execute_reply.started": "2023-02-01T08:26:12.039622Z"
        },
        "id": "riTa4adOprMm",
        "outputId": "09e80ff2-d276-49e4-96f9-5a8839ec9002",
        "trusted": true
      },
      "outputs": [
        {
          "data": {
            "text/html": [
              "\n",
              "  <div id=\"df-855616a2-a5d3-4777-b77d-2c32f697d89a\">\n",
              "    <div class=\"colab-df-container\">\n",
              "      <div>\n",
              "<style scoped>\n",
              "    .dataframe tbody tr th:only-of-type {\n",
              "        vertical-align: middle;\n",
              "    }\n",
              "\n",
              "    .dataframe tbody tr th {\n",
              "        vertical-align: top;\n",
              "    }\n",
              "\n",
              "    .dataframe thead th {\n",
              "        text-align: right;\n",
              "    }\n",
              "</style>\n",
              "<table border=\"1\" class=\"dataframe\">\n",
              "  <thead>\n",
              "    <tr style=\"text-align: right;\">\n",
              "      <th></th>\n",
              "      <th>A</th>\n",
              "      <th>B</th>\n",
              "      <th>C</th>\n",
              "      <th>Type</th>\n",
              "      <th>D</th>\n",
              "    </tr>\n",
              "  </thead>\n",
              "  <tbody>\n",
              "    <tr>\n",
              "      <th>0</th>\n",
              "      <td>good</td>\n",
              "      <td>better</td>\n",
              "      <td>rough</td>\n",
              "      <td>JJ_JJR</td>\n",
              "      <td>rougher</td>\n",
              "    </tr>\n",
              "    <tr>\n",
              "      <th>1</th>\n",
              "      <td>better</td>\n",
              "      <td>good</td>\n",
              "      <td>rougher</td>\n",
              "      <td>JJR_JJ</td>\n",
              "      <td>rough</td>\n",
              "    </tr>\n",
              "    <tr>\n",
              "      <th>2</th>\n",
              "      <td>good</td>\n",
              "      <td>best</td>\n",
              "      <td>rough</td>\n",
              "      <td>JJ_JJS</td>\n",
              "      <td>roughest</td>\n",
              "    </tr>\n",
              "    <tr>\n",
              "      <th>3</th>\n",
              "      <td>best</td>\n",
              "      <td>good</td>\n",
              "      <td>roughest</td>\n",
              "      <td>JJS_JJ</td>\n",
              "      <td>rough</td>\n",
              "    </tr>\n",
              "    <tr>\n",
              "      <th>4</th>\n",
              "      <td>best</td>\n",
              "      <td>better</td>\n",
              "      <td>roughest</td>\n",
              "      <td>JJS_JJR</td>\n",
              "      <td>rougher</td>\n",
              "    </tr>\n",
              "  </tbody>\n",
              "</table>\n",
              "</div>\n",
              "      <button class=\"colab-df-convert\" onclick=\"convertToInteractive('df-855616a2-a5d3-4777-b77d-2c32f697d89a')\"\n",
              "              title=\"Convert this dataframe to an interactive table.\"\n",
              "              style=\"display:none;\">\n",
              "        \n",
              "  <svg xmlns=\"http://www.w3.org/2000/svg\" height=\"24px\"viewBox=\"0 0 24 24\"\n",
              "       width=\"24px\">\n",
              "    <path d=\"M0 0h24v24H0V0z\" fill=\"none\"/>\n",
              "    <path d=\"M18.56 5.44l.94 2.06.94-2.06 2.06-.94-2.06-.94-.94-2.06-.94 2.06-2.06.94zm-11 1L8.5 8.5l.94-2.06 2.06-.94-2.06-.94L8.5 2.5l-.94 2.06-2.06.94zm10 10l.94 2.06.94-2.06 2.06-.94-2.06-.94-.94-2.06-.94 2.06-2.06.94z\"/><path d=\"M17.41 7.96l-1.37-1.37c-.4-.4-.92-.59-1.43-.59-.52 0-1.04.2-1.43.59L10.3 9.45l-7.72 7.72c-.78.78-.78 2.05 0 2.83L4 21.41c.39.39.9.59 1.41.59.51 0 1.02-.2 1.41-.59l7.78-7.78 2.81-2.81c.8-.78.8-2.07 0-2.86zM5.41 20L4 18.59l7.72-7.72 1.47 1.35L5.41 20z\"/>\n",
              "  </svg>\n",
              "      </button>\n",
              "      \n",
              "  <style>\n",
              "    .colab-df-container {\n",
              "      display:flex;\n",
              "      flex-wrap:wrap;\n",
              "      gap: 12px;\n",
              "    }\n",
              "\n",
              "    .colab-df-convert {\n",
              "      background-color: #E8F0FE;\n",
              "      border: none;\n",
              "      border-radius: 50%;\n",
              "      cursor: pointer;\n",
              "      display: none;\n",
              "      fill: #1967D2;\n",
              "      height: 32px;\n",
              "      padding: 0 0 0 0;\n",
              "      width: 32px;\n",
              "    }\n",
              "\n",
              "    .colab-df-convert:hover {\n",
              "      background-color: #E2EBFA;\n",
              "      box-shadow: 0px 1px 2px rgba(60, 64, 67, 0.3), 0px 1px 3px 1px rgba(60, 64, 67, 0.15);\n",
              "      fill: #174EA6;\n",
              "    }\n",
              "\n",
              "    [theme=dark] .colab-df-convert {\n",
              "      background-color: #3B4455;\n",
              "      fill: #D2E3FC;\n",
              "    }\n",
              "\n",
              "    [theme=dark] .colab-df-convert:hover {\n",
              "      background-color: #434B5C;\n",
              "      box-shadow: 0px 1px 3px 1px rgba(0, 0, 0, 0.15);\n",
              "      filter: drop-shadow(0px 1px 2px rgba(0, 0, 0, 0.3));\n",
              "      fill: #FFFFFF;\n",
              "    }\n",
              "  </style>\n",
              "\n",
              "      <script>\n",
              "        const buttonEl =\n",
              "          document.querySelector('#df-855616a2-a5d3-4777-b77d-2c32f697d89a button.colab-df-convert');\n",
              "        buttonEl.style.display =\n",
              "          google.colab.kernel.accessAllowed ? 'block' : 'none';\n",
              "\n",
              "        async function convertToInteractive(key) {\n",
              "          const element = document.querySelector('#df-855616a2-a5d3-4777-b77d-2c32f697d89a');\n",
              "          const dataTable =\n",
              "            await google.colab.kernel.invokeFunction('convertToInteractive',\n",
              "                                                     [key], {});\n",
              "          if (!dataTable) return;\n",
              "\n",
              "          const docLinkHtml = 'Like what you see? Visit the ' +\n",
              "            '<a target=\"_blank\" href=https://colab.research.google.com/notebooks/data_table.ipynb>data table notebook</a>'\n",
              "            + ' to learn more about interactive tables.';\n",
              "          element.innerHTML = '';\n",
              "          dataTable['output_type'] = 'display_data';\n",
              "          await google.colab.output.renderOutput(dataTable, element);\n",
              "          const docLink = document.createElement('div');\n",
              "          docLink.innerHTML = docLinkHtml;\n",
              "          element.appendChild(docLink);\n",
              "        }\n",
              "      </script>\n",
              "    </div>\n",
              "  </div>\n",
              "  "
            ],
            "text/plain": [
              "        A       B         C     Type         D\n",
              "0    good  better     rough   JJ_JJR   rougher\n",
              "1  better    good   rougher   JJR_JJ     rough\n",
              "2    good    best     rough   JJ_JJS  roughest\n",
              "3    best    good  roughest   JJS_JJ     rough\n",
              "4    best  better  roughest  JJS_JJR   rougher"
            ]
          },
          "execution_count": 4,
          "metadata": {},
          "output_type": "execute_result"
        }
      ],
      "source": [
        "df_questions = pd.read_csv(\"./word_relationship.questions\", names = ['A', 'B', 'C'], sep=' ')\n",
        "df_answers = pd.read_csv(\"./word_relationship.answers\", names = ['Type', 'D'], sep = ' ')\n",
        "\n",
        "# Records on Pandas DataFrame are created through the concatenation of question words and answers, i.e., a,b,c and d respectively \n",
        "df = pd.concat([df_questions, df_answers], axis=1)\n",
        "df.head()"
      ]
    },
    {
      "cell_type": "markdown",
      "metadata": {
        "id": "26d7xCh_prMm"
      },
      "source": [
        "When checking the occurences of word-analogy question types, we see that 16 types of equal counts are present as below."
      ]
    },
    {
      "cell_type": "code",
      "execution_count": 5,
      "metadata": {
        "_uuid": "525c4930df130c8078a576c6a05897bb6334df39",
        "colab": {
          "base_uri": "https://localhost:8080/"
        },
        "execution": {
          "iopub.execute_input": "2023-02-01T08:28:30.237014Z",
          "iopub.status.busy": "2023-02-01T08:28:30.236671Z",
          "iopub.status.idle": "2023-02-01T08:28:30.249199Z",
          "shell.execute_reply": "2023-02-01T08:28:30.248218Z",
          "shell.execute_reply.started": "2023-02-01T08:28:30.236952Z"
        },
        "id": "f7wdaadGprMn",
        "outputId": "53cec14f-243f-40d9-f6e4-f20f4080363a",
        "trusted": true
      },
      "outputs": [
        {
          "data": {
            "text/plain": [
              "JJ_JJR      500\n",
              "JJR_JJ      500\n",
              "JJ_JJS      500\n",
              "JJS_JJ      500\n",
              "JJS_JJR     500\n",
              "JJR_JJS     500\n",
              "NN_NNS      500\n",
              "NNS_NN      500\n",
              "NN_NNPOS    500\n",
              "NNPOS_NN    500\n",
              "VB_VBD      500\n",
              "VBD_VB      500\n",
              "VB_VBZ      500\n",
              "VBZ_VB      500\n",
              "VBZ_VBD     500\n",
              "VBD_VBZ     500\n",
              "Name: Type, dtype: int64"
            ]
          },
          "execution_count": 5,
          "metadata": {},
          "output_type": "execute_result"
        }
      ],
      "source": [
        "df.Type.value_counts()"
      ]
    },
    {
      "cell_type": "code",
      "execution_count": 6,
      "metadata": {
        "execution": {
          "iopub.execute_input": "2023-02-01T08:29:36.410172Z",
          "iopub.status.busy": "2023-02-01T08:29:36.409869Z",
          "iopub.status.idle": "2023-02-01T08:29:36.419800Z",
          "shell.execute_reply": "2023-02-01T08:29:36.419094Z",
          "shell.execute_reply.started": "2023-02-01T08:29:36.410117Z"
        },
        "id": "dJtzjToFprMn",
        "trusted": true
      },
      "outputs": [],
      "source": [
        "all_abc_words = [word for words in df[['A', 'B', 'C']].values.tolist() for word in words]"
      ]
    },
    {
      "cell_type": "markdown",
      "metadata": {
        "id": "iOgmyugXprMn"
      },
      "source": [
        "When working on various experiments with the dataset, I found that column D or the answers to word-analogy questions is a subset of the vocabulary of the questions(a,b,c)\n",
        "\n",
        "Hence, no text is output from the next cell"
      ]
    },
    {
      "cell_type": "code",
      "execution_count": null,
      "metadata": {
        "execution": {
          "iopub.execute_input": "2023-02-01T08:32:01.048628Z",
          "iopub.status.busy": "2023-02-01T08:32:01.048305Z",
          "iopub.status.idle": "2023-02-01T08:32:02.190996Z",
          "shell.execute_reply": "2023-02-01T08:32:02.190129Z",
          "shell.execute_reply.started": "2023-02-01T08:32:01.048569Z"
        },
        "id": "7OpPKGl9prMn",
        "trusted": true
      },
      "outputs": [],
      "source": [
        "for i in df.D:\n",
        "    if i not in all_abc_words:\n",
        "        print(i)"
      ]
    },
    {
      "cell_type": "markdown",
      "metadata": {
        "id": "5zPE1h1kprMn"
      },
      "source": [
        "The below cell calculates the frequency counts for all words making up the vocabulary of the word-analogy questions."
      ]
    },
    {
      "cell_type": "code",
      "execution_count": 7,
      "metadata": {
        "colab": {
          "base_uri": "https://localhost:8080/"
        },
        "execution": {
          "iopub.execute_input": "2023-02-01T08:33:03.481045Z",
          "iopub.status.busy": "2023-02-01T08:33:03.480742Z",
          "iopub.status.idle": "2023-02-01T08:33:03.496309Z",
          "shell.execute_reply": "2023-02-01T08:33:03.495423Z",
          "shell.execute_reply.started": "2023-02-01T08:33:03.480989Z"
        },
        "id": "XbxPYUL-prMn",
        "outputId": "64050c3a-1e42-4eef-ce9b-05655bc84ea6",
        "trusted": true
      },
      "outputs": [
        {
          "data": {
            "text/plain": [
              "fast        46\n",
              "become      46\n",
              "became      46\n",
              "becomes     46\n",
              "show        46\n",
              "            ..\n",
              "season's    11\n",
              "year's      11\n",
              "museum's    11\n",
              "museum      11\n",
              "foot        11\n",
              "Length: 966, dtype: int64"
            ]
          },
          "execution_count": 7,
          "metadata": {},
          "output_type": "execute_result"
        }
      ],
      "source": [
        "df_vocab_ct = pd.concat([df.A,df.B,df.C])\n",
        "df_vocab_ct.value_counts()"
      ]
    },
    {
      "cell_type": "markdown",
      "metadata": {
        "id": "oANWbomGprMo"
      },
      "source": [
        "We see that, from below bar plot showing the top 50 most occurring terms in the questions vocabulary, many of the terms have equal counts, and very low outliers are present.\n",
        "\n",
        "With the Pie plot, it become very clear that almost all words are having similar occurrence counts for the top 50 frequently occurring words."
      ]
    },
    {
      "cell_type": "code",
      "execution_count": null,
      "metadata": {
        "execution": {
          "iopub.execute_input": "2023-02-01T08:34:48.307093Z",
          "iopub.status.busy": "2023-02-01T08:34:48.306723Z",
          "iopub.status.idle": "2023-02-01T08:34:49.241238Z",
          "shell.execute_reply": "2023-02-01T08:34:49.240420Z",
          "shell.execute_reply.started": "2023-02-01T08:34:48.307043Z"
        },
        "id": "QDV4EXahprMo",
        "outputId": "f8b608a4-b433-4b28-db4d-f05a26e681d6",
        "trusted": true
      },
      "outputs": [
        {
          "data": {
            "text/plain": [
              "<matplotlib.axes._subplots.AxesSubplot at 0x7fe3e53deb70>"
            ]
          },
          "execution_count": 211,
          "metadata": {},
          "output_type": "execute_result"
        },
        {
          "data": {
            "image/png": "[encoded data removed]",
            "text/plain": [
              "<Figure size 1008x720 with 1 Axes>"
            ]
          },
          "metadata": {
            "needs_background": "light"
          },
          "output_type": "display_data"
        }
      ],
      "source": [
        "df_vocab_ct.value_counts()[:50].plot(kind='barh', figsize = (14, 10))"
      ]
    },
    {
      "cell_type": "code",
      "execution_count": null,
      "metadata": {
        "execution": {
          "iopub.execute_input": "2023-02-01T08:34:50.487170Z",
          "iopub.status.busy": "2023-02-01T08:34:50.486864Z",
          "iopub.status.idle": "2023-02-01T08:34:51.105391Z",
          "shell.execute_reply": "2023-02-01T08:34:51.104671Z",
          "shell.execute_reply.started": "2023-02-01T08:34:50.487114Z"
        },
        "id": "LJ93kc5PprMo",
        "outputId": "f30342d0-3e6c-4bf2-81c4-b4bf9447f908",
        "trusted": true
      },
      "outputs": [
        {
          "data": {
            "text/plain": [
              "<matplotlib.axes._subplots.AxesSubplot at 0x7fe3e50ef2b0>"
            ]
          },
          "execution_count": 212,
          "metadata": {},
          "output_type": "execute_result"
        },
        {
          "data": {
            "image/png": "[encoded data removed]",
            "text/plain": [
              "<Figure size 1008x720 with 1 Axes>"
            ]
          },
          "metadata": {},
          "output_type": "display_data"
        }
      ],
      "source": [
        "df_vocab_ct.value_counts()[:50].plot(kind='pie', figsize = (14, 10))"
      ]
    },
    {
      "cell_type": "markdown",
      "metadata": {
        "id": "A1VHlQkiprMo"
      },
      "source": [
        "From all of the above explorations, we can see that, most of the words in the dataset have been repeated, thus this plays a slightly important role in identifying word vectors values that is compatible with multiple contexts.\n",
        "\n",
        "Eg: If word analogy question WQ1 is \"greater great classier\", and its answer is \"classy\" and\n",
        "word analogy question WQ2 is \"safer safe classier\", and its answer is \"classy\"\n",
        "Then, when word vectors are being trained, word 'classier' gets to be positioned such that it is in the context of both 'great, greater' and 'safe, safer' word vectors\n"
      ]
    },
    {
      "cell_type": "markdown",
      "metadata": {
        "id": "auAGMDLDprMo"
      },
      "source": [
        "In the below cell, we are creating sentences of the form 'a b c d' where a,b,c are word analogy question terms while d is the answer term.\n",
        "This is because, for training and building word vector representations, either the local context(word2vec) or global context(GloVe) is used to evaluate the position of a word in a multi-dimensional plane. For gathering the context information, we need sentence form of inputs, thus we are creating sentences from the dataset."
      ]
    },
    {
      "cell_type": "code",
      "execution_count": 8,
      "metadata": {
        "execution": {
          "iopub.execute_input": "2023-02-01T08:48:34.058252Z",
          "iopub.status.busy": "2023-02-01T08:48:34.057935Z",
          "iopub.status.idle": "2023-02-01T08:48:34.066068Z",
          "shell.execute_reply": "2023-02-01T08:48:34.065247Z",
          "shell.execute_reply.started": "2023-02-01T08:48:34.058192Z"
        },
        "id": "1XskEIC9prMo",
        "trusted": true
      },
      "outputs": [],
      "source": [
        "df_values_sents = df[['A', 'B', 'C', 'D']].values.tolist()"
      ]
    },
    {
      "cell_type": "markdown",
      "metadata": {
        "id": "7v7uwBu3prMo"
      },
      "source": [
        "# Exploring the Word2Vec model with vector dimensions of 5, 50 and 100"
      ]
    },
    {
      "cell_type": "markdown",
      "metadata": {
        "id": "cneS-JGzprMo"
      },
      "source": [
        "The 3 models of Word2vec with different dimensions are generated below, with the method of CBOW(Continuous Bag of Words)"
      ]
    },
    {
      "cell_type": "code",
      "execution_count": 9,
      "metadata": {
        "_uuid": "0d1956af61059aa4ddf611d1924600c67d3431c6",
        "colab": {
          "base_uri": "https://localhost:8080/"
        },
        "execution": {
          "iopub.execute_input": "2023-02-01T09:23:36.156662Z",
          "iopub.status.busy": "2023-02-01T09:23:36.156261Z",
          "iopub.status.idle": "2023-02-01T09:23:36.228441Z",
          "shell.execute_reply": "2023-02-01T09:23:36.227579Z",
          "shell.execute_reply.started": "2023-02-01T09:23:36.156590Z"
        },
        "id": "XIqNWP38prMo",
        "outputId": "e7f63ba4-c40c-43c2-afa3-18b3479a661c",
        "trusted": true
      },
      "outputs": [
        {
          "name": "stderr",
          "output_type": "stream",
          "text": [
            "WARNING:gensim.models.base_any2vec:consider setting layer size to a multiple of 4 for greater performance\n",
            "WARNING:gensim.models.base_any2vec:consider setting layer size to a multiple of 4 for greater performance\n"
          ]
        }
      ],
      "source": [
        "modelw2v_5 = gensim.models.Word2Vec(size=5, window=1, min_count=2, sg=0, workers=10)\n",
        "modelw2v_50 = gensim.models.Word2Vec(size=50, window=1, min_count=2, sg=0, workers=10)\n",
        "modelw2v_100 = gensim.models.Word2Vec(size=100, window=1, min_count=2, sg=0, workers=10)\n",
        "\n",
        "# prepare the vocabulary for all above Word2Vec models\n",
        "modelw2v_5.build_vocab(df_values_sents)\n",
        "modelw2v_50.build_vocab(df_values_sents)\n",
        "modelw2v_100.build_vocab(df_values_sents)"
      ]
    },
    {
      "cell_type": "markdown",
      "metadata": {
        "_uuid": "981d5e8ac087a30294810a18513e3626e2e43f9a",
        "id": "kaWgNDVOprMp"
      },
      "source": [
        "Below I provide the definition of four parameters that we used to define a Word2Vec model:\n",
        "\n",
        "* **size:** The size means the dimensionality of word vectors. It defines the number of tokens used to represent each word. Rule-of-thumb: If a dataset is small, then size should be small too. If a dataset is large, then size should be greater too. It's the question of tuning.\n",
        "\n",
        "* **window:** The maximum distance between the target word and its neighboring word. For example, let's take the phrase \"agama is a reptile \" with 4 words (suppose that we do not exclude the stop words). If window size is 2, then the vector of word \"agama\" is directly affected by the word \"is\" and \"a\". Rule-of-thumb: a smaller window should provide terms that are more related (of course, the exclusion of stop words should be considered). This parameter doesnt matter much to us, since the word analogy dataset has only 4 words in each record, so the window is set to 1 or 2.\n",
        "\n",
        "* **min_count:** Ignores all words with total frequency lower than this. For example, if the word frequency is extremally low, then this word might be considered as unimportant.\n",
        "\n",
        "* **sg:** Selects training algorithm: 1 for Skip-Gram; 0 for CBOW (Continuous Bag of Words). I used the CBOW method, since in this method, given a context a single vector is output, rather than outputting multiple vectors given a single word vector(as in Skip Gram architecture).\n",
        "\n",
        "* **workers:** The number of worker threads used to train the model.\n",
        "\n",
        "More details about input parameters can be found [here](http://radimrehurek.com/gensim/models/word2vec.html)."
      ]
    },
    {
      "cell_type": "markdown",
      "metadata": {
        "id": "keuFvFYPprMp"
      },
      "source": [
        "Training of the Word2Vec models are carried out below for 3 epochs"
      ]
    },
    {
      "cell_type": "code",
      "execution_count": 10,
      "metadata": {
        "_uuid": "6d7629860aa0e7c9be43af0d24317e9d046fd339",
        "colab": {
          "base_uri": "https://localhost:8080/"
        },
        "execution": {
          "iopub.execute_input": "2023-02-01T09:23:41.195225Z",
          "iopub.status.busy": "2023-02-01T09:23:41.194911Z",
          "iopub.status.idle": "2023-02-01T09:23:41.555166Z",
          "shell.execute_reply": "2023-02-01T09:23:41.554513Z",
          "shell.execute_reply.started": "2023-02-01T09:23:41.195170Z"
        },
        "id": "EULPUhXAprMp",
        "outputId": "00b74c05-342c-43b9-ff0c-347659cfdd50",
        "trusted": true
      },
      "outputs": [
        {
          "name": "stderr",
          "output_type": "stream",
          "text": [
            "WARNING:gensim.models.base_any2vec:under 10 jobs per worker: consider setting a smaller `batch_words' for smoother alpha decay\n",
            "WARNING:gensim.models.base_any2vec:under 10 jobs per worker: consider setting a smaller `batch_words' for smoother alpha decay\n",
            "WARNING:gensim.models.base_any2vec:under 10 jobs per worker: consider setting a smaller `batch_words' for smoother alpha decay\n"
          ]
        },
        {
          "data": {
            "text/plain": [
              "(96000, 96000)"
            ]
          },
          "execution_count": 10,
          "metadata": {},
          "output_type": "execute_result"
        }
      ],
      "source": [
        "modelw2v_5.train(sentences=df_values_sents, total_examples=modelw2v_5.corpus_count, epochs=3)\n",
        "modelw2v_50.train(sentences=df_values_sents, total_examples=modelw2v_50.corpus_count, epochs=3)\n",
        "modelw2v_100.train(sentences=df_values_sents, total_examples=modelw2v_100.corpus_count, epochs=3)"
      ]
    },
    {
      "cell_type": "markdown",
      "metadata": {
        "id": "LVw76AiXprMp"
      },
      "source": [
        "Each of the model is being trained with the same dataset, but leads to different vector dimensions in output. In total, 966 unique words are present in the dataset excluding the type of relation."
      ]
    },
    {
      "cell_type": "code",
      "execution_count": null,
      "metadata": {
        "execution": {
          "iopub.execute_input": "2023-02-01T09:37:55.322061Z",
          "iopub.status.busy": "2023-02-01T09:37:55.321740Z",
          "iopub.status.idle": "2023-02-01T09:37:55.332223Z",
          "shell.execute_reply": "2023-02-01T09:37:55.331453Z",
          "shell.execute_reply.started": "2023-02-01T09:37:55.322004Z"
        },
        "id": "MtiHDJhfprMp",
        "trusted": true
      },
      "outputs": [],
      "source": [
        "wv5 = modelw2v_5.wv\n",
        "wv50 = modelw2v_50.wv\n",
        "wv100 = modelw2v_100.wv"
      ]
    },
    {
      "cell_type": "code",
      "execution_count": null,
      "metadata": {
        "execution": {
          "iopub.execute_input": "2023-02-01T09:38:19.846509Z",
          "iopub.status.busy": "2023-02-01T09:38:19.846149Z",
          "iopub.status.idle": "2023-02-01T09:38:19.855113Z",
          "shell.execute_reply": "2023-02-01T09:38:19.854230Z",
          "shell.execute_reply.started": "2023-02-01T09:38:19.846432Z"
        },
        "id": "wfkYXcD0prMp",
        "outputId": "7abc2912-d8ee-4755-ecd2-5491602f71b7",
        "trusted": true
      },
      "outputs": [
        {
          "data": {
            "text/plain": [
              "(966, 966, 966)"
            ]
          },
          "execution_count": 245,
          "metadata": {},
          "output_type": "execute_result"
        }
      ],
      "source": [
        "len(modelw2v_5.wv.vocab), len(modelw2v_50.wv.vocab), len(modelw2v_100.wv.vocab)"
      ]
    },
    {
      "cell_type": "markdown",
      "metadata": {
        "id": "sgCs-lQOprMp"
      },
      "source": [
        "The below code is for computing vector cosine similarity, or the angle between two vectors in a multi-dimensional plane.\n",
        "If vector cosine distance is 1, then both vectors are same \n",
        "\n",
        "More the value of cosine similarity, More the similarity between given two vectors"
      ]
    },
    {
      "cell_type": "code",
      "execution_count": null,
      "metadata": {
        "execution": {
          "iopub.execute_input": "2023-02-01T09:47:09.240124Z",
          "iopub.status.busy": "2023-02-01T09:47:09.239820Z",
          "iopub.status.idle": "2023-02-01T09:47:09.245520Z",
          "shell.execute_reply": "2023-02-01T09:47:09.244624Z",
          "shell.execute_reply.started": "2023-02-01T09:47:09.240067Z"
        },
        "id": "aUYtWwBlprMp",
        "trusted": true
      },
      "outputs": [],
      "source": [
        "#found this from article - https://stackoverflow.com/questions/21979970/how-to-use-word2vec-to-calculate-the-similarity-distance-by-giving-2-words\n",
        "def vec_cosine_dist(v1, v2):\n",
        "    return np.dot(v1, v2)/(np.linalg.norm(v1)* np.linalg.norm(v2))"
      ]
    },
    {
      "cell_type": "markdown",
      "metadata": {
        "id": "wB7mGtcJprMp"
      },
      "source": [
        "Evaluating vector-offset method on Word2Vec for all 3 models below, and how it performs."
      ]
    },
    {
      "cell_type": "code",
      "execution_count": null,
      "metadata": {
        "execution": {
          "iopub.execute_input": "2023-02-01T10:23:52.622824Z",
          "iopub.status.busy": "2023-02-01T10:23:52.622507Z",
          "iopub.status.idle": "2023-02-01T10:23:52.629091Z",
          "shell.execute_reply": "2023-02-01T10:23:52.628197Z",
          "shell.execute_reply.started": "2023-02-01T10:23:52.622767Z"
        },
        "id": "i8ZMZuAuprMp",
        "trusted": true
      },
      "outputs": [],
      "source": [
        "#           A  :  B  ::   C   :   D\n",
        "words = 'tough tougher strong stronger'.split()"
      ]
    },
    {
      "cell_type": "code",
      "execution_count": null,
      "metadata": {
        "execution": {
          "iopub.execute_input": "2023-02-01T09:52:27.307573Z",
          "iopub.status.busy": "2023-02-01T09:52:27.307248Z",
          "iopub.status.idle": "2023-02-01T09:52:27.316000Z",
          "shell.execute_reply": "2023-02-01T09:52:27.315210Z",
          "shell.execute_reply.started": "2023-02-01T09:52:27.307513Z"
        },
        "id": "PwxLAmHtprMp",
        "outputId": "b1eab66e-4b24-4271-db53-1e3b477f02e5",
        "trusted": true
      },
      "outputs": [
        {
          "name": "stderr",
          "output_type": "stream",
          "text": [
            "/opt/conda/lib/python3.6/site-packages/ipykernel_launcher.py:1: DeprecationWarning: Call to deprecated `most_similar` (Method will be removed in 4.0.0, use self.wv.most_similar() instead).\n",
            "  \"\"\"Entry point for launching an IPython kernel.\n"
          ]
        },
        {
          "data": {
            "text/plain": [
              "[('protect', 0.9264461994171143),\n",
              " ('work', 0.9137416481971741),\n",
              " ('send', 0.8600581884384155),\n",
              " ('meanest', 0.8225146532058716),\n",
              " ('jobs', 0.820286214351654),\n",
              " ('offered', 0.8184273838996887),\n",
              " ('industry', 0.8175363540649414),\n",
              " (\"agency's\", 0.810515820980072),\n",
              " ('dollars', 0.7730557918548584),\n",
              " (\"district's\", 0.7633900046348572)]"
            ]
          },
          "execution_count": 260,
          "metadata": {},
          "output_type": "execute_result"
        }
      ],
      "source": [
        "modelw2v_5.most_similar(positive=[words[1], words[2]], negative=[words[0]], topn=10)"
      ]
    },
    {
      "cell_type": "code",
      "execution_count": null,
      "metadata": {
        "execution": {
          "iopub.execute_input": "2023-02-01T09:52:32.138562Z",
          "iopub.status.busy": "2023-02-01T09:52:32.138239Z",
          "iopub.status.idle": "2023-02-01T09:52:32.149947Z",
          "shell.execute_reply": "2023-02-01T09:52:32.148438Z",
          "shell.execute_reply.started": "2023-02-01T09:52:32.138495Z"
        },
        "id": "krDE6LyWprMp",
        "outputId": "d32fcda4-42cd-464b-a32f-e81b35eaa4c2",
        "trusted": true
      },
      "outputs": [
        {
          "name": "stderr",
          "output_type": "stream",
          "text": [
            "/opt/conda/lib/python3.6/site-packages/ipykernel_launcher.py:1: DeprecationWarning: Call to deprecated `most_similar` (Method will be removed in 4.0.0, use self.wv.most_similar() instead).\n",
            "  \"\"\"Entry point for launching an IPython kernel.\n"
          ]
        },
        {
          "data": {
            "text/plain": [
              "[('pricey', 0.4449365735054016),\n",
              " ('nicest', 0.40004390478134155),\n",
              " ('needs', 0.39628908038139343),\n",
              " ('systems', 0.3871038854122162),\n",
              " ('cheaper', 0.38386937975883484),\n",
              " ('livelier', 0.3671429455280304),\n",
              " ('improved', 0.3647782504558563),\n",
              " ('lucky', 0.3587520718574524),\n",
              " ('quick', 0.3573203682899475),\n",
              " ('larger', 0.3553037941455841)]"
            ]
          },
          "execution_count": 261,
          "metadata": {},
          "output_type": "execute_result"
        }
      ],
      "source": [
        "modelw2v_50.most_similar(positive=[words[1], words[2]], negative=[words[0]], topn=10)"
      ]
    },
    {
      "cell_type": "code",
      "execution_count": null,
      "metadata": {
        "execution": {
          "iopub.execute_input": "2023-02-01T09:52:43.539346Z",
          "iopub.status.busy": "2023-02-01T09:52:43.539036Z",
          "iopub.status.idle": "2023-02-01T09:52:43.550181Z",
          "shell.execute_reply": "2023-02-01T09:52:43.549226Z",
          "shell.execute_reply.started": "2023-02-01T09:52:43.539287Z"
        },
        "id": "LT6hDAqEprMp",
        "outputId": "7ec141b7-0d73-4584-a83b-312127546e2c",
        "trusted": true
      },
      "outputs": [
        {
          "name": "stderr",
          "output_type": "stream",
          "text": [
            "/opt/conda/lib/python3.6/site-packages/ipykernel_launcher.py:1: DeprecationWarning: Call to deprecated `most_similar` (Method will be removed in 4.0.0, use self.wv.most_similar() instead).\n",
            "  \"\"\"Entry point for launching an IPython kernel.\n"
          ]
        },
        {
          "data": {
            "text/plain": [
              "[('sought', 0.4213271737098694),\n",
              " ('oldest', 0.4181406497955322),\n",
              " ('quick', 0.39098942279815674),\n",
              " ('liveliest', 0.38770347833633423),\n",
              " ('pays', 0.379044771194458),\n",
              " ('included', 0.3773754835128784),\n",
              " ('poor', 0.36933255195617676),\n",
              " ('steadiest', 0.3659106194972992),\n",
              " ('pricier', 0.365082323551178),\n",
              " ('cheaper', 0.3644378185272217)]"
            ]
          },
          "execution_count": 262,
          "metadata": {},
          "output_type": "execute_result"
        }
      ],
      "source": [
        "modelw2v_100.most_similar(positive=[words[1], words[2]], negative=[words[0]], topn=10)"
      ]
    },
    {
      "cell_type": "markdown",
      "metadata": {
        "id": "BSUzkkD0prMq"
      },
      "source": [
        "So, from the above cells, we see that the answer vector is predicted to be either 'protect' with 5 dimensional vector, 'pricey' with 50 dimensional vector and 'sought' with 100 dimensional vector.\n",
        "But, the answer according to the dataset and conventional knowledge is 'stronger' which neither of the model's top 10 answers consisted of.\n",
        "\n",
        "2 observations from the above:\n",
        "- The similarity scores keep reducing with increase in dimensionality of Word2Vec models\n",
        "    -- This may be because of less data to train the model and computed vectors don't depict the words properly or that the vector offset method isn't good enough to predict the right analogy term. It needs to be improved further, maybe with a different train of thought such as actually understanding the word and its meaning rather than predicting the context of where the words are present in a text passage.\n",
        "    \n",
        "- A very few number of words repeat in the top 10 answers of all 3 models -- This maybe because of how the training process occurs, for each model the question term vectors are placed at different positions in the plane, and thus output different word vectors which are near to the predicted analogy answer term."
      ]
    },
    {
      "cell_type": "code",
      "execution_count": null,
      "metadata": {
        "execution": {
          "iopub.execute_input": "2023-02-01T09:48:19.613192Z",
          "iopub.status.busy": "2023-02-01T09:48:19.612887Z",
          "iopub.status.idle": "2023-02-01T09:48:19.620080Z",
          "shell.execute_reply": "2023-02-01T09:48:19.619141Z",
          "shell.execute_reply.started": "2023-02-01T09:48:19.613134Z"
        },
        "id": "p3eVnugbprMq",
        "outputId": "cca4672c-705d-45e7-cf8e-2429c1f0dc10",
        "trusted": true
      },
      "outputs": [
        {
          "data": {
            "text/plain": [
              "-0.21260452"
            ]
          },
          "execution_count": 257,
          "metadata": {},
          "output_type": "execute_result"
        }
      ],
      "source": [
        "vec_cosine_dist(wv5[words[1]]+wv5[words[2]]-wv5[words[0]], wv5[words[3]])"
      ]
    },
    {
      "cell_type": "code",
      "execution_count": null,
      "metadata": {
        "execution": {
          "iopub.execute_input": "2023-02-01T09:48:22.959929Z",
          "iopub.status.busy": "2023-02-01T09:48:22.959619Z",
          "iopub.status.idle": "2023-02-01T09:48:22.966083Z",
          "shell.execute_reply": "2023-02-01T09:48:22.965273Z",
          "shell.execute_reply.started": "2023-02-01T09:48:22.959871Z"
        },
        "id": "NjghilLIprMq",
        "outputId": "cdb9b518-d665-4595-d879-6fb10d95fb20",
        "trusted": true
      },
      "outputs": [
        {
          "data": {
            "text/plain": [
              "0.22451892"
            ]
          },
          "execution_count": 258,
          "metadata": {},
          "output_type": "execute_result"
        }
      ],
      "source": [
        "vec_cosine_dist(wv50[words[1]]+wv50[words[2]]-wv50[words[0]], wv50[words[3]])"
      ]
    },
    {
      "cell_type": "code",
      "execution_count": null,
      "metadata": {
        "execution": {
          "iopub.execute_input": "2023-02-01T09:48:23.710843Z",
          "iopub.status.busy": "2023-02-01T09:48:23.710469Z",
          "iopub.status.idle": "2023-02-01T09:48:23.718286Z",
          "shell.execute_reply": "2023-02-01T09:48:23.717347Z",
          "shell.execute_reply.started": "2023-02-01T09:48:23.710770Z"
        },
        "id": "v09GpF_6prMq",
        "outputId": "fafbac3f-4549-490c-eaa5-98e1f2288ea1",
        "trusted": true
      },
      "outputs": [
        {
          "data": {
            "text/plain": [
              "0.29398978"
            ]
          },
          "execution_count": 259,
          "metadata": {},
          "output_type": "execute_result"
        }
      ],
      "source": [
        "vec_cosine_dist(wv100[words[1]]+wv100[words[2]]-wv100[words[0]], wv100[words[3]])"
      ]
    },
    {
      "cell_type": "markdown",
      "metadata": {
        "id": "E5rdD8p-prMq"
      },
      "source": [
        "The above 3 cells show the vector cosine distance between the predicted vector from the offset method to the actual word vector which is the answer term. With increase in dimensionality, the similarity of the predicted word with the true word is increasing."
      ]
    },
    {
      "cell_type": "markdown",
      "metadata": {
        "id": "1LrQYi8UprMq"
      },
      "source": [
        "# Explore the Glove model"
      ]
    },
    {
      "cell_type": "code",
      "execution_count": null,
      "metadata": {
        "execution": {
          "iopub.execute_input": "2023-02-01T10:05:46.724062Z",
          "iopub.status.busy": "2023-02-01T10:05:46.723728Z",
          "iopub.status.idle": "2023-02-01T10:06:10.234539Z",
          "shell.execute_reply": "2023-02-01T10:06:10.233683Z",
          "shell.execute_reply.started": "2023-02-01T10:05:46.724000Z"
        },
        "id": "nEn-wDJaprMq",
        "outputId": "ef7e5264-7eeb-4763-d712-9a73250db9b4",
        "trusted": true
      },
      "outputs": [
        {
          "name": "stdout",
          "output_type": "stream",
          "text": [
            "Collecting glove_python\n",
            "\u001b[?25l  Downloading https://files.pythonhosted.org/packages/3e/79/7e7e548dd9dcb741935d031117f4bed133276c2a047aadad42f1552d1771/glove_python-0.1.0.tar.gz (263kB)\n",
            "\u001b[K    100% |████████████████████████████████| 266kB 1.5MB/s ta 0:00:01\n",
            "\u001b[?25hRequirement already satisfied: numpy in /opt/conda/lib/python3.6/site-packages (from glove_python) (1.15.2)\n",
            "Requirement already satisfied: scipy in /opt/conda/lib/python3.6/site-packages (from glove_python) (1.1.0)\n",
            "Building wheels for collected packages: glove-python\n",
            "  Running setup.py bdist_wheel for glove-python ... \u001b[?25ldone\n",
            "\u001b[?25h  Stored in directory: /root/.cache/pip/wheels/88/4b/6d/10c0d2ad32c9d9d68beec9694a6f0b6e83ab1662a90a089a4b\n",
            "Successfully built glove-python\n",
            "\u001b[31mmxnet 1.3.0.post0 has requirement numpy<1.15.0,>=1.8.2, but you'll have numpy 1.15.2 which is incompatible.\u001b[0m\n",
            "\u001b[31mkmeans-smote 0.1.0 has requirement imbalanced-learn<0.4,>=0.3.1, but you'll have imbalanced-learn 0.5.0.dev0 which is incompatible.\u001b[0m\n",
            "\u001b[31mkmeans-smote 0.1.0 has requirement numpy<1.15,>=1.13, but you'll have numpy 1.15.2 which is incompatible.\u001b[0m\n",
            "\u001b[31mfastai 0.7.0 has requirement torch<0.4, but you'll have torch 0.4.1.post2 which is incompatible.\u001b[0m\n",
            "\u001b[31manaconda-client 1.7.2 has requirement python-dateutil>=2.6.1, but you'll have python-dateutil 2.6.0 which is incompatible.\u001b[0m\n",
            "\u001b[31mimbalanced-learn 0.5.0.dev0 has requirement scikit-learn>=0.20, but you'll have scikit-learn 0.19.1 which is incompatible.\u001b[0m\n",
            "Installing collected packages: glove-python\n",
            "Successfully installed glove-python-0.1.0\n",
            "\u001b[33mYou are using pip version 10.0.1, however version 21.3.1 is available.\n",
            "You should consider upgrading via the 'pip install --upgrade pip' command.\u001b[0m\n"
          ]
        }
      ],
      "source": [
        "!pip install glove_python"
      ]
    },
    {
      "cell_type": "code",
      "execution_count": null,
      "metadata": {
        "execution": {
          "iopub.execute_input": "2023-02-01T10:06:10.236908Z",
          "iopub.status.busy": "2023-02-01T10:06:10.236614Z",
          "iopub.status.idle": "2023-02-01T10:06:10.243027Z",
          "shell.execute_reply": "2023-02-01T10:06:10.240968Z",
          "shell.execute_reply.started": "2023-02-01T10:06:10.236856Z"
        },
        "id": "G46KSJ1AprMq",
        "trusted": true
      },
      "outputs": [],
      "source": [
        "lines = df_values_sents"
      ]
    },
    {
      "cell_type": "code",
      "execution_count": null,
      "metadata": {
        "execution": {
          "iopub.execute_input": "2023-02-01T10:06:14.093707Z",
          "iopub.status.busy": "2023-02-01T10:06:14.093388Z",
          "iopub.status.idle": "2023-02-01T10:06:14.239039Z",
          "shell.execute_reply": "2023-02-01T10:06:14.238237Z",
          "shell.execute_reply.started": "2023-02-01T10:06:14.093650Z"
        },
        "id": "e7nwYTKAprMq",
        "outputId": "69be387c-ad0e-4580-cc40-dd0a69928794",
        "trusted": true
      },
      "outputs": [
        {
          "name": "stdout",
          "output_type": "stream",
          "text": [
            "Performing 30 training epochs with 4 threads\n",
            "Epoch 0\n",
            "Epoch 1\n",
            "Epoch 2\n",
            "Epoch 3\n",
            "Epoch 4\n",
            "Epoch 5\n",
            "Epoch 6\n",
            "Epoch 7\n",
            "Epoch 8\n",
            "Epoch 9\n",
            "Epoch 10\n",
            "Epoch 11\n",
            "Epoch 12\n",
            "Epoch 13\n",
            "Epoch 14\n",
            "Epoch 15\n",
            "Epoch 16\n",
            "Epoch 17\n",
            "Epoch 18\n",
            "Epoch 19\n",
            "Epoch 20\n",
            "Epoch 21\n",
            "Epoch 22\n",
            "Epoch 23\n",
            "Epoch 24\n",
            "Epoch 25\n",
            "Epoch 26\n",
            "Epoch 27\n",
            "Epoch 28\n",
            "Epoch 29\n"
          ]
        }
      ],
      "source": [
        "# taken from article - https://stackoverflow.com/a/56749028\n",
        "from glove import Corpus, Glove\n",
        "\n",
        "#Creating a corpus object\n",
        "corpus = Corpus() \n",
        "\n",
        "#Training the corpus to generate the co-occurrence matrix which is used in GloVe\n",
        "corpus.fit(lines, window=10)\n",
        "\n",
        "# In this method of generating word vectors, we generate only 5 dimensional ones to evaluate the dataset.\n",
        "glove = Glove(no_components=5, learning_rate=0.05) \n",
        "glove.fit(corpus.matrix, epochs=30, no_threads=4, verbose=True)\n",
        "glove.add_dictionary(corpus.dictionary)\n",
        "glove.save('glove.model')"
      ]
    },
    {
      "cell_type": "markdown",
      "metadata": {
        "id": "ZRBp-LMnprMq"
      },
      "source": [
        "An example of extracting GloVe word vectors from the model for the word 'rough'"
      ]
    },
    {
      "cell_type": "code",
      "execution_count": null,
      "metadata": {
        "execution": {
          "iopub.execute_input": "2023-02-01T10:18:02.625923Z",
          "iopub.status.busy": "2023-02-01T10:18:02.625588Z",
          "iopub.status.idle": "2023-02-01T10:18:02.631857Z",
          "shell.execute_reply": "2023-02-01T10:18:02.631062Z",
          "shell.execute_reply.started": "2023-02-01T10:18:02.625861Z"
        },
        "id": "2jsyhpC5prMq",
        "outputId": "2cb2adf9-4b67-4ee2-ba90-6b5efae0bebb",
        "trusted": true
      },
      "outputs": [
        {
          "data": {
            "text/plain": [
              "array([ 0.1048932 , -0.1623211 ,  0.5340166 , -0.27372773,  0.16959196])"
            ]
          },
          "execution_count": 297,
          "metadata": {},
          "output_type": "execute_result"
        }
      ],
      "source": [
        "glove.word_vectors[glove.dictionary['rough']]"
      ]
    },
    {
      "cell_type": "code",
      "execution_count": null,
      "metadata": {
        "execution": {
          "iopub.execute_input": "2023-02-01T10:24:01.996516Z",
          "iopub.status.busy": "2023-02-01T10:24:01.996193Z",
          "iopub.status.idle": "2023-02-01T10:24:02.001685Z",
          "shell.execute_reply": "2023-02-01T10:24:02.000766Z",
          "shell.execute_reply.started": "2023-02-01T10:24:01.996446Z"
        },
        "id": "tn_GkwCMprMq",
        "trusted": true
      },
      "outputs": [],
      "source": [
        "wa, wb, wc = glove.word_vectors[glove.dictionary[words[0]]], glove.word_vectors[glove.dictionary[words[1]]], glove.word_vectors[glove.dictionary[words[2]]]"
      ]
    },
    {
      "cell_type": "code",
      "execution_count": null,
      "metadata": {
        "execution": {
          "iopub.execute_input": "2023-02-01T10:24:03.873115Z",
          "iopub.status.busy": "2023-02-01T10:24:03.872817Z",
          "iopub.status.idle": "2023-02-01T10:24:03.878456Z",
          "shell.execute_reply": "2023-02-01T10:24:03.876143Z",
          "shell.execute_reply.started": "2023-02-01T10:24:03.873059Z"
        },
        "id": "ucGbgH4_prMq",
        "trusted": true
      },
      "outputs": [],
      "source": [
        "# The vector offset method - (b - a + c ~= d)\n",
        "# wd_pred is the predicted word vector from the offset method.\n",
        "wd_pred = wb-wa+wc"
      ]
    },
    {
      "cell_type": "code",
      "execution_count": null,
      "metadata": {
        "execution": {
          "iopub.execute_input": "2023-02-01T10:24:04.421841Z",
          "iopub.status.busy": "2023-02-01T10:24:04.421524Z",
          "iopub.status.idle": "2023-02-01T10:24:04.427676Z",
          "shell.execute_reply": "2023-02-01T10:24:04.426495Z",
          "shell.execute_reply.started": "2023-02-01T10:24:04.421781Z"
        },
        "id": "kPYsUZWVprMq",
        "trusted": true
      },
      "outputs": [],
      "source": [
        "wd_true = glove.word_vectors[glove.dictionary[words[3]]]"
      ]
    },
    {
      "cell_type": "markdown",
      "metadata": {
        "id": "z6lG11LHprMq"
      },
      "source": [
        "The below cell checks and find the most probable word vector (from the vocabulary of the questions) which is nearest to the wd_pred(predicted word vector)"
      ]
    },
    {
      "cell_type": "code",
      "execution_count": null,
      "metadata": {
        "execution": {
          "iopub.execute_input": "2023-02-01T10:24:05.505271Z",
          "iopub.status.busy": "2023-02-01T10:24:05.504966Z",
          "iopub.status.idle": "2023-02-01T10:24:05.527606Z",
          "shell.execute_reply": "2023-02-01T10:24:05.526692Z",
          "shell.execute_reply.started": "2023-02-01T10:24:05.505214Z"
        },
        "id": "mY0FBMW8prMq",
        "outputId": "2722a994-e38e-4f4b-a6e7-9cba0a636783",
        "trusted": true
      },
      "outputs": [
        {
          "name": "stdout",
          "output_type": "stream",
          "text": [
            "43 stronger 0.9894357823200026\n"
          ]
        }
      ],
      "source": [
        "# Find the most probable word from the questions vocabulary for this vector, excluding word vectors part of the question terms\n",
        "max_dist = 0\n",
        "ind = -1\n",
        "wrd = ''\n",
        "for i,w in enumerate(df_vocab_ct.unique()):\n",
        "    dist = vec_cosine_dist(wd_p, glove.word_vectors[glove.dictionary[w]])\n",
        "    if dist>max_dist and w not in words[:-1]:\n",
        "        max_dist = dist\n",
        "        ind = i\n",
        "        wrd = w\n",
        "print(ind, wrd, max_dist)"
      ]
    },
    {
      "cell_type": "markdown",
      "metadata": {
        "id": "KWGh7PGLprMr"
      },
      "source": [
        "The below cell checks and find the most probable word vector (from the vocabulary of the answer terms) which is nearest to the wd_pred(predicted word vector)"
      ]
    },
    {
      "cell_type": "code",
      "execution_count": null,
      "metadata": {
        "execution": {
          "iopub.execute_input": "2023-02-01T10:24:06.985647Z",
          "iopub.status.busy": "2023-02-01T10:24:06.985336Z",
          "iopub.status.idle": "2023-02-01T10:24:07.072570Z",
          "shell.execute_reply": "2023-02-01T10:24:07.071549Z",
          "shell.execute_reply.started": "2023-02-01T10:24:06.985584Z"
        },
        "id": "Eh-9gd1AprMr",
        "outputId": "ea67bff7-183f-4681-e360-675166d3d24d",
        "trusted": true
      },
      "outputs": [
        {
          "name": "stdout",
          "output_type": "stream",
          "text": [
            "378 stronger 0.9894357823200026\n"
          ]
        }
      ],
      "source": [
        "# Find the most probable word from teh answers vocabulary for this vector, excluding word vectors part of the question terms\n",
        "max_dist = 0\n",
        "ind = -1\n",
        "wrd = ''\n",
        "for i,w in enumerate(df.D):\n",
        "    dist = vec_cosine_dist(wd_pred, glove.word_vectors[glove.dictionary[w]])\n",
        "    if dist>max_dist and w not in words[:-1]:\n",
        "        max_dist = dist\n",
        "        ind = i\n",
        "        wrd = w\n",
        "print(ind, wrd, max_dist)"
      ]
    },
    {
      "cell_type": "markdown",
      "metadata": {
        "id": "FdeEq4J-prMr"
      },
      "source": [
        "Hooray, GloVe was able to predict the right answer term 'stronger' for the word-analogy question. We see that both the above functions give the same word as output. This is because the answer terms are a subset of the question terms vocabulary.\n",
        "\n",
        "This might be a good example which worked well for GloVe, but not so well for Word2Vec since GloVe considers global context as well as local context(Word2Vec) of a word to predict its vector representation."
      ]
    },
    {
      "cell_type": "markdown",
      "metadata": {
        "id": "cj3g8LfgprMr"
      },
      "source": [
        "Below is an example, where GloVe fails to predict the right answer term."
      ]
    },
    {
      "cell_type": "code",
      "execution_count": null,
      "metadata": {
        "execution": {
          "iopub.execute_input": "2023-02-01T10:24:35.466062Z",
          "iopub.status.busy": "2023-02-01T10:24:35.465687Z",
          "iopub.status.idle": "2023-02-01T10:24:35.476791Z",
          "shell.execute_reply": "2023-02-01T10:24:35.473783Z",
          "shell.execute_reply.started": "2023-02-01T10:24:35.466006Z"
        },
        "id": "xz7hZRe-prMr",
        "trusted": true
      },
      "outputs": [],
      "source": [
        "words = \"safe safest cheap cheapest\".split()"
      ]
    },
    {
      "cell_type": "code",
      "execution_count": null,
      "metadata": {
        "execution": {
          "iopub.execute_input": "2023-02-01T10:24:36.054989Z",
          "iopub.status.busy": "2023-02-01T10:24:36.054680Z",
          "iopub.status.idle": "2023-02-01T10:24:36.060919Z",
          "shell.execute_reply": "2023-02-01T10:24:36.060085Z",
          "shell.execute_reply.started": "2023-02-01T10:24:36.054933Z"
        },
        "id": "wlMNAN0sprMr",
        "trusted": true
      },
      "outputs": [],
      "source": [
        "wa, wb, wc = glove.word_vectors[glove.dictionary[words[0]]], glove.word_vectors[glove.dictionary[words[1]]], glove.word_vectors[glove.dictionary[words[2]]]\n",
        "wd_pred = wb-wa+wc"
      ]
    },
    {
      "cell_type": "code",
      "execution_count": null,
      "metadata": {
        "execution": {
          "iopub.execute_input": "2023-02-01T10:24:37.257347Z",
          "iopub.status.busy": "2023-02-01T10:24:37.257038Z",
          "iopub.status.idle": "2023-02-01T10:24:37.286581Z",
          "shell.execute_reply": "2023-02-01T10:24:37.285763Z",
          "shell.execute_reply.started": "2023-02-01T10:24:37.257289Z"
        },
        "id": "x9p6hgYTprMr",
        "outputId": "a42bbbd5-c549-4bdb-877f-0ae2dd56ca6f",
        "trusted": true
      },
      "outputs": [
        {
          "name": "stdout",
          "output_type": "stream",
          "text": [
            "763 want 0.9665399686011301\n"
          ]
        }
      ],
      "source": [
        "# Find the most probable word from the questions vocabulary for this vector, excluding word vectors part of the question terms\n",
        "max_dist = 0\n",
        "ind = -1\n",
        "wrd = ''\n",
        "for i,w in enumerate(df_vocab_ct.unique()):\n",
        "    dist = vec_cosine_dist(wd_pred, glove.word_vectors[glove.dictionary[w]])\n",
        "    if dist>max_dist and w not in words[:-1]:\n",
        "        max_dist = dist\n",
        "        ind = i\n",
        "        wrd = w\n",
        "print(ind, wrd, max_dist)"
      ]
    },
    {
      "cell_type": "code",
      "execution_count": null,
      "metadata": {
        "execution": {
          "iopub.execute_input": "2023-02-01T10:24:38.318985Z",
          "iopub.status.busy": "2023-02-01T10:24:38.318656Z",
          "iopub.status.idle": "2023-02-01T10:24:38.327744Z",
          "shell.execute_reply": "2023-02-01T10:24:38.326500Z",
          "shell.execute_reply.started": "2023-02-01T10:24:38.318923Z"
        },
        "id": "pRc4lvVnprMr",
        "outputId": "a77034e8-39de-4fbc-bb76-a7e5740068f7",
        "trusted": true
      },
      "outputs": [
        {
          "data": {
            "text/plain": [
              "0.8433155861535495"
            ]
          },
          "execution_count": 320,
          "metadata": {},
          "output_type": "execute_result"
        }
      ],
      "source": [
        "vec_cosine_dist(wd_pred, wd_true)"
      ]
    },
    {
      "cell_type": "markdown",
      "metadata": {
        "id": "L6bgKIMcprMr"
      },
      "source": [
        "So, the GloVe embeddings predicted 'want' with a similarity of 0.96 than the actual answer to which the similarity score of the predicted vector is only 0.84"
      ]
    },
    {
      "cell_type": "markdown",
      "metadata": {
        "id": "Pdi_j6hSprMr"
      },
      "source": [
        "# Visualizations with U-MAP and PCA "
      ]
    },
    {
      "cell_type": "code",
      "execution_count": 27,
      "metadata": {
        "colab": {
          "base_uri": "https://localhost:8080/"
        },
        "id": "KrGswoFHtK2p",
        "outputId": "54879ade-364b-45e6-d475-a54404a0cc53"
      },
      "outputs": [
        {
          "name": "stdout",
          "output_type": "stream",
          "text": [
            "Looking in indexes: https://pypi.org/simple, https://us-python.pkg.dev/colab-wheels/public/simple/\n",
            "Collecting umap-learn\n",
            "  Downloading umap-learn-0.5.3.tar.gz (88 kB)\n",
            "\u001b[2K     \u001b[90m━━━━━━━━━━━━━━━━━━━━━━━━━━━━━━━━━━━━━━━━\u001b[0m \u001b[32m88.2/88.2 KB\u001b[0m \u001b[31m4.4 MB/s\u001b[0m eta \u001b[36m0:00:00\u001b[0m\n",
            "\u001b[?25h  Preparing metadata (setup.py) ... \u001b[?25l\u001b[?25hdone\n",
            "Requirement already satisfied: numpy>=1.17 in /usr/local/lib/python3.8/dist-packages (from umap-learn) (1.21.6)\n",
            "Requirement already satisfied: scikit-learn>=0.22 in /usr/local/lib/python3.8/dist-packages (from umap-learn) (1.0.2)\n",
            "Requirement already satisfied: scipy>=1.0 in /usr/local/lib/python3.8/dist-packages (from umap-learn) (1.7.3)\n",
            "Requirement already satisfied: numba>=0.49 in /usr/local/lib/python3.8/dist-packages (from umap-learn) (0.56.4)\n",
            "Collecting pynndescent>=0.5\n",
            "  Downloading pynndescent-0.5.8.tar.gz (1.1 MB)\n",
            "\u001b[2K     \u001b[90m━━━━━━━━━━━━━━━━━━━━━━━━━━━━━━━━━━━━━━━━\u001b[0m \u001b[32m1.1/1.1 MB\u001b[0m \u001b[31m30.7 MB/s\u001b[0m eta \u001b[36m0:00:00\u001b[0m\n",
            "\u001b[?25h  Preparing metadata (setup.py) ... \u001b[?25l\u001b[?25hdone\n",
            "Requirement already satisfied: tqdm in /usr/local/lib/python3.8/dist-packages (from umap-learn) (4.64.1)\n",
            "Requirement already satisfied: llvmlite<0.40,>=0.39.0dev0 in /usr/local/lib/python3.8/dist-packages (from numba>=0.49->umap-learn) (0.39.1)\n",
            "Requirement already satisfied: setuptools in /usr/local/lib/python3.8/dist-packages (from numba>=0.49->umap-learn) (57.4.0)\n",
            "Requirement already satisfied: importlib-metadata in /usr/local/lib/python3.8/dist-packages (from numba>=0.49->umap-learn) (6.0.0)\n",
            "Requirement already satisfied: joblib>=0.11 in /usr/local/lib/python3.8/dist-packages (from pynndescent>=0.5->umap-learn) (1.2.0)\n",
            "Requirement already satisfied: threadpoolctl>=2.0.0 in /usr/local/lib/python3.8/dist-packages (from scikit-learn>=0.22->umap-learn) (3.1.0)\n",
            "Requirement already satisfied: zipp>=0.5 in /usr/local/lib/python3.8/dist-packages (from importlib-metadata->numba>=0.49->umap-learn) (3.11.0)\n",
            "Building wheels for collected packages: umap-learn, pynndescent\n",
            "  Building wheel for umap-learn (setup.py) ... \u001b[?25l\u001b[?25hdone\n",
            "  Created wheel for umap-learn: filename=umap_learn-0.5.3-py3-none-any.whl size=82829 sha256=daeb6a0daaea37fc97b34a749fa7c1a7252f36c73ee754b9116d0907b7845ed6\n",
            "  Stored in directory: /root/.cache/pip/wheels/a9/3a/67/06a8950e053725912e6a8c42c4a3a241410f6487b8402542ea\n",
            "  Building wheel for pynndescent (setup.py) ... \u001b[?25l\u001b[?25hdone\n",
            "  Created wheel for pynndescent: filename=pynndescent-0.5.8-py3-none-any.whl size=55513 sha256=8fb7c1640f677ee6fe12f09efe40716f61b1974868f2652335c2ae91709d816e\n",
            "  Stored in directory: /root/.cache/pip/wheels/1c/63/3a/29954bca1a27ba100ed8c27973a78cb71b43dc67aed62e80c3\n",
            "Successfully built umap-learn pynndescent\n",
            "Installing collected packages: pynndescent, umap-learn\n",
            "Successfully installed pynndescent-0.5.8 umap-learn-0.5.3\n"
          ]
        }
      ],
      "source": [
        "!pip install umap-learn"
      ]
    },
    {
      "cell_type": "code",
      "execution_count": 28,
      "metadata": {
        "execution": {
          "iopub.execute_input": "2023-02-01T10:27:04.629923Z",
          "iopub.status.busy": "2023-02-01T10:27:04.629616Z",
          "iopub.status.idle": "2023-02-01T10:27:04.633933Z",
          "shell.execute_reply": "2023-02-01T10:27:04.633086Z",
          "shell.execute_reply.started": "2023-02-01T10:27:04.629866Z"
        },
        "id": "wC8qc1bIprMr",
        "trusted": true
      },
      "outputs": [],
      "source": [
        "import umap"
      ]
    },
    {
      "cell_type": "code",
      "execution_count": 29,
      "metadata": {
        "execution": {
          "iopub.execute_input": "2023-02-01T10:27:31.930626Z",
          "iopub.status.busy": "2023-02-01T10:27:31.930298Z",
          "iopub.status.idle": "2023-02-01T10:27:31.939328Z",
          "shell.execute_reply": "2023-02-01T10:27:31.938458Z",
          "shell.execute_reply.started": "2023-02-01T10:27:31.930566Z"
        },
        "id": "kTn3OiXEprMr",
        "trusted": true
      },
      "outputs": [],
      "source": [
        "keys_ordered = list(modelw2v_100.wv.vocab.keys())\n",
        "vecs_ordered = modelw2v_100.wv[modelw2v_100.wv.vocab.keys()]"
      ]
    },
    {
      "cell_type": "markdown",
      "metadata": {
        "id": "cor60vT-prMr"
      },
      "source": [
        "Formatting the word vectors for all words, to be comaptible for U-MAP algorithm"
      ]
    },
    {
      "cell_type": "code",
      "execution_count": 30,
      "metadata": {
        "execution": {
          "iopub.execute_input": "2023-02-01T10:29:18.804064Z",
          "iopub.status.busy": "2023-02-01T10:29:18.803726Z",
          "iopub.status.idle": "2023-02-01T10:29:18.824340Z",
          "shell.execute_reply": "2023-02-01T10:29:18.823579Z",
          "shell.execute_reply.started": "2023-02-01T10:29:18.804001Z"
        },
        "id": "8BAaVs8UprMr",
        "trusted": true
      },
      "outputs": [],
      "source": [
        "arr_w2v = vecs_ordered[0]\n",
        "for i in range(1, len(vecs_ordered)):\n",
        "    arr_w2v = np.vstack((arr_w2v, vecs_ordered[i]))"
      ]
    },
    {
      "cell_type": "code",
      "execution_count": 31,
      "metadata": {
        "execution": {
          "iopub.execute_input": "2023-02-01T10:31:37.583465Z",
          "iopub.status.busy": "2023-02-01T10:31:37.583110Z",
          "iopub.status.idle": "2023-02-01T10:31:37.590367Z",
          "shell.execute_reply": "2023-02-01T10:31:37.589589Z",
          "shell.execute_reply.started": "2023-02-01T10:31:37.583417Z"
        },
        "id": "eUfQZkJ4prMr",
        "trusted": true
      },
      "outputs": [],
      "source": [
        "# Taking only the first 300 entries, to visualize clearly on U-MAP\n",
        "curr_w2v = arr_w2v[:300]\n",
        "curr_keys = keys_ordered[:300]"
      ]
    },
    {
      "cell_type": "code",
      "execution_count": 32,
      "metadata": {
        "execution": {
          "iopub.execute_input": "2023-02-01T10:37:36.942799Z",
          "iopub.status.busy": "2023-02-01T10:37:36.942453Z",
          "iopub.status.idle": "2023-02-01T10:37:37.970256Z",
          "shell.execute_reply": "2023-02-01T10:37:37.969222Z",
          "shell.execute_reply.started": "2023-02-01T10:37:36.942734Z"
        },
        "id": "rySCVhpTprMr",
        "trusted": true
      },
      "outputs": [],
      "source": [
        "# taken from the article - https://www.kaggle.com/code/simoneazeglio/word2vec-umap-w2vaugmentation/notebook#W2V-Naive-Augmentation\n",
        "umap_emb = umap.UMAP(n_neighbors= 15, n_components = 2, target_metric = 'l1' , n_epochs = 500).fit_transform(curr_w2v)"
      ]
    },
    {
      "cell_type": "code",
      "execution_count": 33,
      "metadata": {
        "execution": {
          "iopub.execute_input": "2023-02-01T10:37:39.048733Z",
          "iopub.status.busy": "2023-02-01T10:37:39.048384Z",
          "iopub.status.idle": "2023-02-01T10:37:39.053072Z",
          "shell.execute_reply": "2023-02-01T10:37:39.052222Z",
          "shell.execute_reply.started": "2023-02-01T10:37:39.048666Z"
        },
        "id": "j-Fx0fIPprMr",
        "trusted": true
      },
      "outputs": [],
      "source": [
        "from sklearn.preprocessing import LabelEncoder"
      ]
    },
    {
      "cell_type": "markdown",
      "metadata": {
        "id": "tWpH8orMprMr"
      },
      "source": [
        "# POS tagging"
      ]
    },
    {
      "cell_type": "code",
      "execution_count": 34,
      "metadata": {
        "execution": {
          "iopub.execute_input": "2023-02-01T10:37:39.809032Z",
          "iopub.status.busy": "2023-02-01T10:37:39.808720Z",
          "iopub.status.idle": "2023-02-01T10:37:39.813208Z",
          "shell.execute_reply": "2023-02-01T10:37:39.812244Z",
          "shell.execute_reply.started": "2023-02-01T10:37:39.808975Z"
        },
        "id": "x39rBTFBprMs",
        "trusted": true
      },
      "outputs": [],
      "source": [
        "uniq_vocab = curr_keys"
      ]
    },
    {
      "cell_type": "markdown",
      "metadata": {
        "id": "n18Fs6ToprMs"
      },
      "source": [
        "U-POS tags and specific POS tags are extracted from Spacy library and stored into a DataFrame"
      ]
    },
    {
      "cell_type": "code",
      "execution_count": 35,
      "metadata": {
        "execution": {
          "iopub.execute_input": "2023-02-01T10:37:40.173660Z",
          "iopub.status.busy": "2023-02-01T10:37:40.173335Z",
          "iopub.status.idle": "2023-02-01T10:37:40.871216Z",
          "shell.execute_reply": "2023-02-01T10:37:40.870040Z",
          "shell.execute_reply.started": "2023-02-01T10:37:40.173601Z"
        },
        "id": "7RExQLtgprMs",
        "trusted": true
      },
      "outputs": [],
      "source": [
        "import spacy\n",
        "\n",
        "nlp = spacy.load(\"en_core_web_sm\")\n",
        "doc = nlp(' '.join(uniq_vocab))\n",
        "tok_texts, tok_pos, tok_tags = [], [], []\n",
        "for token in doc:\n",
        "    tok_texts.append(token.text)\n",
        "    tok_pos.append(token.pos_)\n",
        "    tok_tags.append(token.tag_)\n"
      ]
    },
    {
      "cell_type": "code",
      "execution_count": 36,
      "metadata": {
        "execution": {
          "iopub.execute_input": "2023-02-01T10:37:40.873217Z",
          "iopub.status.busy": "2023-02-01T10:37:40.872814Z",
          "iopub.status.idle": "2023-02-01T10:37:40.887703Z",
          "shell.execute_reply": "2023-02-01T10:37:40.886300Z",
          "shell.execute_reply.started": "2023-02-01T10:37:40.873168Z"
        },
        "id": "btFbPjoKprMs",
        "trusted": true
      },
      "outputs": [],
      "source": [
        "pos_df = pd.DataFrame({\n",
        "    'text': tok_texts,\n",
        "    'pos': tok_pos,\n",
        "    'tags': tok_tags\n",
        "})"
      ]
    },
    {
      "cell_type": "code",
      "execution_count": 37,
      "metadata": {
        "colab": {
          "base_uri": "https://localhost:8080/"
        },
        "execution": {
          "iopub.execute_input": "2023-02-01T10:37:41.824883Z",
          "iopub.status.busy": "2023-02-01T10:37:41.824576Z",
          "iopub.status.idle": "2023-02-01T10:37:41.832505Z",
          "shell.execute_reply": "2023-02-01T10:37:41.831745Z",
          "shell.execute_reply.started": "2023-02-01T10:37:41.824824Z"
        },
        "id": "DwSAGPS_prMs",
        "outputId": "ace0a245-4bc3-4177-cff9-5358b1aec97c",
        "trusted": true
      },
      "outputs": [
        {
          "data": {
            "text/plain": [
              "ADJ     214\n",
              "ADV      41\n",
              "NOUN     25\n",
              "X        14\n",
              "VERB      5\n",
              "ADP       1\n",
              "Name: pos, dtype: int64"
            ]
          },
          "execution_count": 37,
          "metadata": {},
          "output_type": "execute_result"
        }
      ],
      "source": [
        "pos_df.pos.value_counts()"
      ]
    },
    {
      "cell_type": "code",
      "execution_count": 38,
      "metadata": {
        "execution": {
          "iopub.execute_input": "2023-02-01T10:37:42.431499Z",
          "iopub.status.busy": "2023-02-01T10:37:42.431171Z",
          "iopub.status.idle": "2023-02-01T10:37:42.436017Z",
          "shell.execute_reply": "2023-02-01T10:37:42.435112Z",
          "shell.execute_reply.started": "2023-02-01T10:37:42.431423Z"
        },
        "id": "vpCdvjAzprMs",
        "trusted": true
      },
      "outputs": [],
      "source": [
        "label_encoder = LabelEncoder()\n",
        "integer_encoded_pos = label_encoder.fit_transform(pos_df.pos)"
      ]
    },
    {
      "cell_type": "markdown",
      "metadata": {
        "id": "WwTbXkPYprMs"
      },
      "source": [
        "The below figure shows how all word vectors with reduced dimensions are placed in a 2d plane, and the colours of the markers depict the POS tag they are associated to.\n",
        "\n",
        "From the value_counts function before, we see that 'ADJ' has more count, thus many red marker dots are in the figure all over the picture."
      ]
    },
    {
      "cell_type": "code",
      "execution_count": 42,
      "metadata": {
        "colab": {
          "base_uri": "https://localhost:8080/",
          "height": 1000
        },
        "execution": {
          "iopub.execute_input": "2023-02-01T10:46:36.755446Z",
          "iopub.status.busy": "2023-02-01T10:46:36.755126Z",
          "iopub.status.idle": "2023-02-01T10:46:37.629261Z",
          "shell.execute_reply": "2023-02-01T10:46:37.628561Z",
          "shell.execute_reply.started": "2023-02-01T10:46:36.755385Z"
        },
        "id": "6zpRDBJVprMs",
        "outputId": "ec73aa83-bfb1-4fdb-bf13-bd373fe170e2",
        "trusted": true
      },
      "outputs": [
        {
          "name": "stdout",
          "output_type": "stream",
          "text": [
            "U-MAP for POS tags\n"
          ]
        },
        {
          "data": {
            "image/png": "[encoded data removed]",
            "text/plain": [
              "<Figure size 1728x1440 with 2 Axes>"
            ]
          },
          "metadata": {
            "needs_background": "light"
          },
          "output_type": "display_data"
        }
      ],
      "source": [
        "fig, ax = plt.subplots(1, figsize=(24, 20))\n",
        "plt.scatter(*umap_emb.T, s=15, c = integer_encoded_pos, cmap='Spectral', alpha=1.0)\n",
        "plt.setp(ax, xticks=[], yticks=[])\n",
        "ax.patch.set_facecolor('black')\n",
        "fg_color = 'black'\n",
        "cbar = plt.colorbar()\n",
        "cbar.set_ticks(np.arange(6))\n",
        "cbar.set_ticklabels(pos_df.pos.unique())\n",
        "plt.setp(plt.getp(cbar.ax.axes, 'yticklabels'), color=fg_color)\n",
        "print('U-MAP for POS tags')"
      ]
    },
    {
      "cell_type": "code",
      "execution_count": null,
      "metadata": {
        "execution": {
          "iopub.execute_input": "2023-02-01T10:46:37.631550Z",
          "iopub.status.busy": "2023-02-01T10:46:37.631249Z",
          "iopub.status.idle": "2023-02-01T10:46:37.640315Z",
          "shell.execute_reply": "2023-02-01T10:46:37.639535Z",
          "shell.execute_reply.started": "2023-02-01T10:46:37.631499Z"
        },
        "id": "dwQnmQYUprMs",
        "outputId": "af04e1d7-b85a-4fc2-b613-26c80cdc6b98",
        "trusted": true
      },
      "outputs": [
        {
          "data": {
            "text/plain": [
              "JJS    76\n",
              "JJ     73\n",
              "JJR    46\n",
              "RBR    37\n",
              "NN     30\n",
              "RB     29\n",
              "RBS     5\n",
              "VB      2\n",
              "VBP     1\n",
              "VBD     1\n",
              "Name: tags, dtype: int64"
            ]
          },
          "execution_count": 385,
          "metadata": {},
          "output_type": "execute_result"
        }
      ],
      "source": [
        "pos_df.tags.value_counts()"
      ]
    },
    {
      "cell_type": "code",
      "execution_count": null,
      "metadata": {
        "execution": {
          "iopub.execute_input": "2023-02-01T10:46:37.643160Z",
          "iopub.status.busy": "2023-02-01T10:46:37.642021Z",
          "iopub.status.idle": "2023-02-01T10:46:37.649175Z",
          "shell.execute_reply": "2023-02-01T10:46:37.648439Z",
          "shell.execute_reply.started": "2023-02-01T10:46:37.643106Z"
        },
        "id": "riELgyVJprMs",
        "trusted": true
      },
      "outputs": [],
      "source": [
        "label_encoder = LabelEncoder()\n",
        "integer_encoded_tags = label_encoder.fit_transform(pos_df.tags)"
      ]
    },
    {
      "cell_type": "markdown",
      "metadata": {
        "id": "QHr3YnAcprMs"
      },
      "source": [
        "The below figure shows how all word vectors with reduced dimensions are placed in a 2D plane, and the colours of the markers depict the specific POS tag they are associated to.\n",
        "\n",
        "From the value_counts function before, we see that 'VBD' and 'VBP' has one count, thus only one blue and one purple marker dot is on the figure. "
      ]
    },
    {
      "cell_type": "code",
      "execution_count": null,
      "metadata": {
        "execution": {
          "iopub.execute_input": "2023-02-01T10:46:38.581250Z",
          "iopub.status.busy": "2023-02-01T10:46:38.580729Z",
          "iopub.status.idle": "2023-02-01T10:46:39.520313Z",
          "shell.execute_reply": "2023-02-01T10:46:39.519582Z",
          "shell.execute_reply.started": "2023-02-01T10:46:38.581030Z"
        },
        "id": "qpOlRIQqprMs",
        "outputId": "6cfec6d6-13de-4f07-df6f-bcd172e7198a",
        "trusted": true
      },
      "outputs": [
        {
          "name": "stdout",
          "output_type": "stream",
          "text": [
            "U-MAP for specific POS tags\n"
          ]
        },
        {
          "data": {
            "image/png": "[encoded data removed]",
            "text/plain": [
              "<Figure size 1728x1440 with 2 Axes>"
            ]
          },
          "metadata": {
            "needs_background": "light"
          },
          "output_type": "display_data"
        }
      ],
      "source": [
        "fig, ax = plt.subplots(1, figsize=(24, 20))\n",
        "plt.scatter(*umap_emb.T, s=15, c = integer_encoded_tags, cmap='Spectral', alpha=1.0)\n",
        "plt.setp(ax, xticks=[], yticks=[])\n",
        "ax.patch.set_facecolor('black')\n",
        "fg_color = 'black'\n",
        "cbar = plt.colorbar()\n",
        "cbar.set_ticks(np.arange(10))\n",
        "cbar.set_ticklabels(pos_df.tags.unique())\n",
        "plt.setp(plt.getp(cbar.ax.axes, 'yticklabels'), color=fg_color)\n",
        "print('U-MAP for specific POS tags')"
      ]
    },
    {
      "cell_type": "markdown",
      "metadata": {
        "id": "GTHhQSCzprMs"
      },
      "source": [
        "Honestly, I was expecting a more clustered representation of word vectors with respect to their POS tags.\n",
        "\n",
        "This is probably because the word vector model has tried to understand the context without actually understanding grammatical nuances in the questions data. The latter form is how humans learn to answer word-analogy questions. So, the ML algorithms are far from developing that instinct to understand a question in its entirety and answer it. Rather, all the ML and DL models try to circumvent around every problem and convince the users that it has figured out the way to solve a given problem. \n",
        "\n",
        "Eg: Galactica, a DL model by Meta AI which generated research papers with content that made no sense, but was very convincing to a layman observer."
      ]
    },
    {
      "cell_type": "code",
      "execution_count": null,
      "metadata": {
        "execution": {
          "iopub.execute_input": "2023-02-01T01:26:00.795646Z",
          "iopub.status.busy": "2023-02-01T01:26:00.795269Z",
          "iopub.status.idle": "2023-02-01T01:27:37.995351Z",
          "shell.execute_reply": "2023-02-01T01:27:37.994380Z",
          "shell.execute_reply.started": "2023-02-01T01:26:00.795577Z"
        },
        "id": "ICAJkxnuprMs",
        "outputId": "c61ecc7e-8060-4dc7-9266-2978797377eb",
        "trusted": true
      },
      "outputs": [
        {
          "name": "stdout",
          "output_type": "stream",
          "text": [
            "Collecting plotly==5.13.0\n",
            "  Using cached https://files.pythonhosted.org/packages/39/0e/df1664219b6ca7967ed76afd05fb71a1b9762f8da67e12206625395bd9ff/plotly-5.13.0-py2.py3-none-any.whl\n",
            "Requirement already satisfied: tenacity>=6.2.0 in /opt/conda/lib/python3.6/site-packages (from plotly==5.13.0) (8.1.0)\n",
            "\u001b[31mmxnet 1.3.0.post0 has requirement numpy<1.15.0,>=1.8.2, but you'll have numpy 1.15.2 which is incompatible.\u001b[0m\n",
            "\u001b[31mkmeans-smote 0.1.0 has requirement imbalanced-learn<0.4,>=0.3.1, but you'll have imbalanced-learn 0.5.0.dev0 which is incompatible.\u001b[0m\n",
            "\u001b[31mkmeans-smote 0.1.0 has requirement numpy<1.15,>=1.13, but you'll have numpy 1.15.2 which is incompatible.\u001b[0m\n",
            "\u001b[31mfastai 0.7.0 has requirement torch<0.4, but you'll have torch 0.4.1.post2 which is incompatible.\u001b[0m\n",
            "\u001b[31manaconda-client 1.7.2 has requirement python-dateutil>=2.6.1, but you'll have python-dateutil 2.6.0 which is incompatible.\u001b[0m\n",
            "\u001b[31mimbalanced-learn 0.5.0.dev0 has requirement scikit-learn>=0.20, but you'll have scikit-learn 0.19.1 which is incompatible.\u001b[0m\n",
            "Installing collected packages: plotly\n",
            "  Found existing installation: plotly 4.11.0\n",
            "    Uninstalling plotly-4.11.0:\n",
            "      Successfully uninstalled plotly-4.11.0\n",
            "Successfully installed plotly-5.13.0\n",
            "\u001b[33mYou are using pip version 10.0.1, however version 21.3.1 is available.\n",
            "You should consider upgrading via the 'pip install --upgrade pip' command.\u001b[0m\n"
          ]
        }
      ],
      "source": [
        "!pip install plotly==5.13.0"
      ]
    },
    {
      "cell_type": "code",
      "execution_count": 44,
      "metadata": {
        "colab": {
          "base_uri": "https://localhost:8080/",
          "height": 1000
        },
        "execution": {
          "iopub.execute_input": "2023-02-01T01:28:42.992198Z",
          "iopub.status.busy": "2023-02-01T01:28:42.991897Z",
          "iopub.status.idle": "2023-02-01T01:28:43.085720Z",
          "shell.execute_reply": "2023-02-01T01:28:43.084584Z",
          "shell.execute_reply.started": "2023-02-01T01:28:42.992144Z"
        },
        "id": "JlyTOCW6prMs",
        "outputId": "f2db85b2-1eac-4177-df80-e4cb71a1f376",
        "trusted": true
      },
      "outputs": [
        {
          "name": "stderr",
          "output_type": "stream",
          "text": [
            "<ipython-input-44-ec87ecb3b6b4>:15: DeprecationWarning:\n",
            "\n",
            "Call to deprecated `__getitem__` (Method will be removed in 4.0.0, use self.wv.__getitem__() instead).\n",
            "\n"
          ]
        },
        {
          "data": {
            "text/html": [
              "<html>\n",
              "<head><meta charset=\"utf-8\" /></head>\n",
              "<body>\n",
              "    <div>            <script src=\"https://cdnjs.cloudflare.com/ajax/libs/mathjax/2.7.5/MathJax.js?config=TeX-AMS-MML_SVG\"></script><script type=\"text/javascript\">if (window.MathJax) {MathJax.Hub.Config({SVG: {font: \"STIX-Web\"}});}</script>                <script type=\"text/javascript\">window.PlotlyConfig = {MathJaxConfig: 'local'};</script>\n",
              "        <script src=\"https://cdn.plot.ly/plotly-2.8.3.min.js\"></script>                <div id=\"aa2c7a46-4275-4980-9bba-6a89b12f6cd9\" class=\"plotly-graph-div\" style=\"height:1000px; width:1000px;\"></div>            <script type=\"text/javascript\">                                    window.PLOTLYENV=window.PLOTLYENV || {};                                    if (document.getElementById(\"aa2c7a46-4275-4980-9bba-6a89b12f6cd9\")) {                    Plotly.newPlot(                        \"aa2c7a46-4275-4980-9bba-6a89b12f6cd9\",                        [{\"marker\":{\"color\":2,\"opacity\":0.8,\"size\":10},\"mode\":\"markers+text\",\"name\":\"richest\",\"text\":[\"large\",\"largest\",\"rich\"],\"textposition\":\"top center\",\"x\":[-0.017731618136167526,-0.0038492130115628242,-0.0001775096752680838],\"y\":[0.0013758743880316615,-0.0024024825543165207,0.006435493938624859],\"z\":[0.0016564212273806334,0.005732507910579443,0.030495503917336464],\"type\":\"scatter3d\"},{\"marker\":{\"color\":2,\"opacity\":0.8,\"size\":10},\"mode\":\"markers+text\",\"name\":\"taller\",\"text\":[\"early\",\"earlier\",\"tall\"],\"textposition\":\"top center\",\"x\":[-0.003737027058377862,-0.013528361916542053,0.01138931605964899],\"y\":[-0.00634246738627553,-0.0004589266609400511,0.03075503185391426],\"z\":[-0.004849765915423632,-0.006975443102419376,-0.010662760585546494],\"type\":\"scatter3d\"},{\"marker\":{\"color\":2,\"opacity\":0.8,\"size\":10},\"mode\":\"markers+text\",\"name\":\"stronger\",\"text\":[\"tough\",\"tougher\",\"strong\"],\"textposition\":\"top center\",\"x\":[-0.01525549404323101,0.002178215654566884,0.02386433631181717],\"y\":[-0.01031971350312233,-0.007519259583204985,-0.022075390443205833],\"z\":[-0.013047664426267147,-0.013547911308705807,0.0020740486215800047],\"type\":\"scatter3d\"},{\"marker\":{\"color\":2,\"opacity\":0.8,\"size\":10},\"mode\":\"markers+text\",\"name\":\"cheapest\",\"text\":[\"safe\",\"safest\",\"cheap\"],\"textposition\":\"top center\",\"x\":[-0.01176863256841898,-0.017628861591219902,0.005084737669676542],\"y\":[0.008974472060799599,-0.001559736207127571,-0.00901190284639597],\"z\":[0.0007803300977684557,-0.0016305061290040612,0.008432986214756966],\"type\":\"scatter3d\"},{\"marker\":{\"color\":\"black\",\"opacity\":1,\"size\":10},\"mode\":\"markers+text\",\"name\":\"answer words\",\"text\":[\"richest\",\"taller\",\"stronger\",\"cheapest\"],\"textposition\":\"top center\",\"x\":[-0.00572992442175746,0.02799314074218273,0.018326010555028915,0.0005708798416890204],\"y\":[0.008373569697141647,0.014809378422796726,-0.012079622596502304,0.0010456854943186045],\"z\":[0.01211189478635788,-0.006143815349787474,0.0015904535539448261,-0.006016258150339127],\"type\":\"scatter3d\"}],                        {\"autosize\":false,\"font\":{\"family\":\" Courier New \",\"size\":15},\"height\":1000,\"legend\":{\"font\":{\"color\":\"black\",\"family\":\"Courier New\",\"size\":25},\"x\":1,\"y\":0.5},\"margin\":{\"b\":0,\"l\":0,\"r\":0,\"t\":0},\"showlegend\":true,\"width\":1000,\"template\":{\"data\":{\"bar\":[{\"error_x\":{\"color\":\"#2a3f5f\"},\"error_y\":{\"color\":\"#2a3f5f\"},\"marker\":{\"line\":{\"color\":\"#E5ECF6\",\"width\":0.5},\"pattern\":{\"fillmode\":\"overlay\",\"size\":10,\"solidity\":0.2}},\"type\":\"bar\"}],\"barpolar\":[{\"marker\":{\"line\":{\"color\":\"#E5ECF6\",\"width\":0.5},\"pattern\":{\"fillmode\":\"overlay\",\"size\":10,\"solidity\":0.2}},\"type\":\"barpolar\"}],\"carpet\":[{\"aaxis\":{\"endlinecolor\":\"#2a3f5f\",\"gridcolor\":\"white\",\"linecolor\":\"white\",\"minorgridcolor\":\"white\",\"startlinecolor\":\"#2a3f5f\"},\"baxis\":{\"endlinecolor\":\"#2a3f5f\",\"gridcolor\":\"white\",\"linecolor\":\"white\",\"minorgridcolor\":\"white\",\"startlinecolor\":\"#2a3f5f\"},\"type\":\"carpet\"}],\"choropleth\":[{\"colorbar\":{\"outlinewidth\":0,\"ticks\":\"\"},\"type\":\"choropleth\"}],\"contour\":[{\"colorbar\":{\"outlinewidth\":0,\"ticks\":\"\"},\"colorscale\":[[0.0,\"#0d0887\"],[0.1111111111111111,\"#46039f\"],[0.2222222222222222,\"#7201a8\"],[0.3333333333333333,\"#9c179e\"],[0.4444444444444444,\"#bd3786\"],[0.5555555555555556,\"#d8576b\"],[0.6666666666666666,\"#ed7953\"],[0.7777777777777778,\"#fb9f3a\"],[0.8888888888888888,\"#fdca26\"],[1.0,\"#f0f921\"]],\"type\":\"contour\"}],\"contourcarpet\":[{\"colorbar\":{\"outlinewidth\":0,\"ticks\":\"\"},\"type\":\"contourcarpet\"}],\"heatmap\":[{\"colorbar\":{\"outlinewidth\":0,\"ticks\":\"\"},\"colorscale\":[[0.0,\"#0d0887\"],[0.1111111111111111,\"#46039f\"],[0.2222222222222222,\"#7201a8\"],[0.3333333333333333,\"#9c179e\"],[0.4444444444444444,\"#bd3786\"],[0.5555555555555556,\"#d8576b\"],[0.6666666666666666,\"#ed7953\"],[0.7777777777777778,\"#fb9f3a\"],[0.8888888888888888,\"#fdca26\"],[1.0,\"#f0f921\"]],\"type\":\"heatmap\"}],\"heatmapgl\":[{\"colorbar\":{\"outlinewidth\":0,\"ticks\":\"\"},\"colorscale\":[[0.0,\"#0d0887\"],[0.1111111111111111,\"#46039f\"],[0.2222222222222222,\"#7201a8\"],[0.3333333333333333,\"#9c179e\"],[0.4444444444444444,\"#bd3786\"],[0.5555555555555556,\"#d8576b\"],[0.6666666666666666,\"#ed7953\"],[0.7777777777777778,\"#fb9f3a\"],[0.8888888888888888,\"#fdca26\"],[1.0,\"#f0f921\"]],\"type\":\"heatmapgl\"}],\"histogram\":[{\"marker\":{\"pattern\":{\"fillmode\":\"overlay\",\"size\":10,\"solidity\":0.2}},\"type\":\"histogram\"}],\"histogram2d\":[{\"colorbar\":{\"outlinewidth\":0,\"ticks\":\"\"},\"colorscale\":[[0.0,\"#0d0887\"],[0.1111111111111111,\"#46039f\"],[0.2222222222222222,\"#7201a8\"],[0.3333333333333333,\"#9c179e\"],[0.4444444444444444,\"#bd3786\"],[0.5555555555555556,\"#d8576b\"],[0.6666666666666666,\"#ed7953\"],[0.7777777777777778,\"#fb9f3a\"],[0.8888888888888888,\"#fdca26\"],[1.0,\"#f0f921\"]],\"type\":\"histogram2d\"}],\"histogram2dcontour\":[{\"colorbar\":{\"outlinewidth\":0,\"ticks\":\"\"},\"colorscale\":[[0.0,\"#0d0887\"],[0.1111111111111111,\"#46039f\"],[0.2222222222222222,\"#7201a8\"],[0.3333333333333333,\"#9c179e\"],[0.4444444444444444,\"#bd3786\"],[0.5555555555555556,\"#d8576b\"],[0.6666666666666666,\"#ed7953\"],[0.7777777777777778,\"#fb9f3a\"],[0.8888888888888888,\"#fdca26\"],[1.0,\"#f0f921\"]],\"type\":\"histogram2dcontour\"}],\"mesh3d\":[{\"colorbar\":{\"outlinewidth\":0,\"ticks\":\"\"},\"type\":\"mesh3d\"}],\"parcoords\":[{\"line\":{\"colorbar\":{\"outlinewidth\":0,\"ticks\":\"\"}},\"type\":\"parcoords\"}],\"pie\":[{\"automargin\":true,\"type\":\"pie\"}],\"scatter\":[{\"marker\":{\"colorbar\":{\"outlinewidth\":0,\"ticks\":\"\"}},\"type\":\"scatter\"}],\"scatter3d\":[{\"line\":{\"colorbar\":{\"outlinewidth\":0,\"ticks\":\"\"}},\"marker\":{\"colorbar\":{\"outlinewidth\":0,\"ticks\":\"\"}},\"type\":\"scatter3d\"}],\"scattercarpet\":[{\"marker\":{\"colorbar\":{\"outlinewidth\":0,\"ticks\":\"\"}},\"type\":\"scattercarpet\"}],\"scattergeo\":[{\"marker\":{\"colorbar\":{\"outlinewidth\":0,\"ticks\":\"\"}},\"type\":\"scattergeo\"}],\"scattergl\":[{\"marker\":{\"colorbar\":{\"outlinewidth\":0,\"ticks\":\"\"}},\"type\":\"scattergl\"}],\"scattermapbox\":[{\"marker\":{\"colorbar\":{\"outlinewidth\":0,\"ticks\":\"\"}},\"type\":\"scattermapbox\"}],\"scatterpolar\":[{\"marker\":{\"colorbar\":{\"outlinewidth\":0,\"ticks\":\"\"}},\"type\":\"scatterpolar\"}],\"scatterpolargl\":[{\"marker\":{\"colorbar\":{\"outlinewidth\":0,\"ticks\":\"\"}},\"type\":\"scatterpolargl\"}],\"scatterternary\":[{\"marker\":{\"colorbar\":{\"outlinewidth\":0,\"ticks\":\"\"}},\"type\":\"scatterternary\"}],\"surface\":[{\"colorbar\":{\"outlinewidth\":0,\"ticks\":\"\"},\"colorscale\":[[0.0,\"#0d0887\"],[0.1111111111111111,\"#46039f\"],[0.2222222222222222,\"#7201a8\"],[0.3333333333333333,\"#9c179e\"],[0.4444444444444444,\"#bd3786\"],[0.5555555555555556,\"#d8576b\"],[0.6666666666666666,\"#ed7953\"],[0.7777777777777778,\"#fb9f3a\"],[0.8888888888888888,\"#fdca26\"],[1.0,\"#f0f921\"]],\"type\":\"surface\"}],\"table\":[{\"cells\":{\"fill\":{\"color\":\"#EBF0F8\"},\"line\":{\"color\":\"white\"}},\"header\":{\"fill\":{\"color\":\"#C8D4E3\"},\"line\":{\"color\":\"white\"}},\"type\":\"table\"}]},\"layout\":{\"annotationdefaults\":{\"arrowcolor\":\"#2a3f5f\",\"arrowhead\":0,\"arrowwidth\":1},\"autotypenumbers\":\"strict\",\"coloraxis\":{\"colorbar\":{\"outlinewidth\":0,\"ticks\":\"\"}},\"colorscale\":{\"diverging\":[[0,\"#8e0152\"],[0.1,\"#c51b7d\"],[0.2,\"#de77ae\"],[0.3,\"#f1b6da\"],[0.4,\"#fde0ef\"],[0.5,\"#f7f7f7\"],[0.6,\"#e6f5d0\"],[0.7,\"#b8e186\"],[0.8,\"#7fbc41\"],[0.9,\"#4d9221\"],[1,\"#276419\"]],\"sequential\":[[0.0,\"#0d0887\"],[0.1111111111111111,\"#46039f\"],[0.2222222222222222,\"#7201a8\"],[0.3333333333333333,\"#9c179e\"],[0.4444444444444444,\"#bd3786\"],[0.5555555555555556,\"#d8576b\"],[0.6666666666666666,\"#ed7953\"],[0.7777777777777778,\"#fb9f3a\"],[0.8888888888888888,\"#fdca26\"],[1.0,\"#f0f921\"]],\"sequentialminus\":[[0.0,\"#0d0887\"],[0.1111111111111111,\"#46039f\"],[0.2222222222222222,\"#7201a8\"],[0.3333333333333333,\"#9c179e\"],[0.4444444444444444,\"#bd3786\"],[0.5555555555555556,\"#d8576b\"],[0.6666666666666666,\"#ed7953\"],[0.7777777777777778,\"#fb9f3a\"],[0.8888888888888888,\"#fdca26\"],[1.0,\"#f0f921\"]]},\"colorway\":[\"#636efa\",\"#EF553B\",\"#00cc96\",\"#ab63fa\",\"#FFA15A\",\"#19d3f3\",\"#FF6692\",\"#B6E880\",\"#FF97FF\",\"#FECB52\"],\"font\":{\"color\":\"#2a3f5f\"},\"geo\":{\"bgcolor\":\"white\",\"lakecolor\":\"white\",\"landcolor\":\"#E5ECF6\",\"showlakes\":true,\"showland\":true,\"subunitcolor\":\"white\"},\"hoverlabel\":{\"align\":\"left\"},\"hovermode\":\"closest\",\"mapbox\":{\"style\":\"light\"},\"paper_bgcolor\":\"white\",\"plot_bgcolor\":\"#E5ECF6\",\"polar\":{\"angularaxis\":{\"gridcolor\":\"white\",\"linecolor\":\"white\",\"ticks\":\"\"},\"bgcolor\":\"#E5ECF6\",\"radialaxis\":{\"gridcolor\":\"white\",\"linecolor\":\"white\",\"ticks\":\"\"}},\"scene\":{\"xaxis\":{\"backgroundcolor\":\"#E5ECF6\",\"gridcolor\":\"white\",\"gridwidth\":2,\"linecolor\":\"white\",\"showbackground\":true,\"ticks\":\"\",\"zerolinecolor\":\"white\"},\"yaxis\":{\"backgroundcolor\":\"#E5ECF6\",\"gridcolor\":\"white\",\"gridwidth\":2,\"linecolor\":\"white\",\"showbackground\":true,\"ticks\":\"\",\"zerolinecolor\":\"white\"},\"zaxis\":{\"backgroundcolor\":\"#E5ECF6\",\"gridcolor\":\"white\",\"gridwidth\":2,\"linecolor\":\"white\",\"showbackground\":true,\"ticks\":\"\",\"zerolinecolor\":\"white\"}},\"shapedefaults\":{\"line\":{\"color\":\"#2a3f5f\"}},\"ternary\":{\"aaxis\":{\"gridcolor\":\"white\",\"linecolor\":\"white\",\"ticks\":\"\"},\"baxis\":{\"gridcolor\":\"white\",\"linecolor\":\"white\",\"ticks\":\"\"},\"bgcolor\":\"#E5ECF6\",\"caxis\":{\"gridcolor\":\"white\",\"linecolor\":\"white\",\"ticks\":\"\"}},\"title\":{\"x\":0.05},\"xaxis\":{\"automargin\":true,\"gridcolor\":\"white\",\"linecolor\":\"white\",\"ticks\":\"\",\"title\":{\"standoff\":15},\"zerolinecolor\":\"white\",\"zerolinewidth\":2},\"yaxis\":{\"automargin\":true,\"gridcolor\":\"white\",\"linecolor\":\"white\",\"ticks\":\"\",\"title\":{\"standoff\":15},\"zerolinecolor\":\"white\",\"zerolinewidth\":2}}}},                        {\"responsive\": true}                    ).then(function(){\n",
              "                            \n",
              "var gd = document.getElementById('aa2c7a46-4275-4980-9bba-6a89b12f6cd9');\n",
              "var x = new MutationObserver(function (mutations, observer) {{\n",
              "        var display = window.getComputedStyle(gd).display;\n",
              "        if (!display || display === 'none') {{\n",
              "            console.log([gd, 'removed!']);\n",
              "            Plotly.purge(gd);\n",
              "            observer.disconnect();\n",
              "        }}\n",
              "}});\n",
              "\n",
              "// Listen for the removal of the full notebook cells\n",
              "var notebookContainer = gd.closest('#notebook-container');\n",
              "if (notebookContainer) {{\n",
              "    x.observe(notebookContainer, {childList: true});\n",
              "}}\n",
              "\n",
              "// Listen for the clearing of the current output cell\n",
              "var outputEl = gd.closest('.output');\n",
              "if (outputEl) {{\n",
              "    x.observe(outputEl, {childList: true});\n",
              "}}\n",
              "\n",
              "                        })                };                            </script>        </div>\n",
              "</body>\n",
              "</html>"
            ]
          },
          "metadata": {},
          "output_type": "display_data"
        }
      ],
      "source": [
        "# visualisation function taken from https://towardsdatascience.com/visualizing-word-embedding-with-pca-and-t-sne-961a692509f5\n",
        "import plotly\n",
        "import numpy as np\n",
        "from plotly import graph_objs as go\n",
        "from sklearn.decomposition import PCA\n",
        "\n",
        "def display_pca_scatterplot_3D(model, user_input=None, words=None, label=None, color_map=None, topn=3, sample=10):\n",
        "\n",
        "    if words == None:\n",
        "        if sample > 0:\n",
        "            words = np.random.choice(list(model.vocab.keys()), sample)\n",
        "        else:\n",
        "            words = [ word for word in model.vocab ]\n",
        "    \n",
        "    word_vectors = np.array([model[w] for w in words])\n",
        "    \n",
        "    three_dim = PCA(random_state=0).fit_transform(word_vectors)[:,:3]\n",
        "    # For 2D, change the three_dim variable into something like two_dim like the following:\n",
        "    # two_dim = PCA(random_state=0).fit_transform(word_vectors)[:,:2]\n",
        "\n",
        "    data = []\n",
        "    count = 0\n",
        "    \n",
        "    for i in range (len(user_input)):\n",
        "\n",
        "                trace = go.Scatter3d(\n",
        "                    x = three_dim[count:count+topn,0], \n",
        "                    y = three_dim[count:count+topn,1],  \n",
        "                    z = three_dim[count:count+topn,2],\n",
        "                    text = words[count:count+topn],\n",
        "                    name = user_input[i],\n",
        "                    textposition = \"top center\",\n",
        "#                     textfont_size = 20,\n",
        "                    mode = 'markers+text',\n",
        "                    marker = {\n",
        "                        'size': 10,\n",
        "                        'opacity': 0.8,\n",
        "                        'color': 2\n",
        "                    }\n",
        "       \n",
        "                )\n",
        "                \n",
        "                # For 2D, instead of using go.Scatter3d, we need to use go.Scatter and delete the z variable. Also, instead of using\n",
        "                # variable three_dim, use the variable that we have declared earlier (e.g two_dim)\n",
        "            \n",
        "                data.append(trace)\n",
        "                count = count+topn\n",
        "\n",
        "    trace_input = go.Scatter3d(\n",
        "                    x = three_dim[count:,0], \n",
        "                    y = three_dim[count:,1],  \n",
        "                    z = three_dim[count:,2],\n",
        "                    text = words[count:],\n",
        "                    name = 'answer words',\n",
        "                    textposition = \"top center\",\n",
        "#                     textfont_size = 20,\n",
        "                    mode = 'markers+text',\n",
        "                    marker = {\n",
        "                        'size': 10,\n",
        "                        'opacity': 1,\n",
        "                        'color': 'black'\n",
        "                    }\n",
        "                    )\n",
        "\n",
        "    # For 2D, instead of using go.Scatter3d, we need to use go.Scatter and delete the z variable.  Also, instead of using\n",
        "    # variable three_dim, use the variable that we have declared earlier (e.g two_dim)\n",
        "            \n",
        "    data.append(trace_input)\n",
        "    \n",
        "# Configure the layout\n",
        "\n",
        "    layout = go.Layout(\n",
        "        margin = {'l': 0, 'r': 0, 'b': 0, 't': 0},\n",
        "        showlegend=True,\n",
        "        legend=dict(\n",
        "        x=1,\n",
        "        y=0.5,\n",
        "        font=dict(\n",
        "            family=\"Courier New\",\n",
        "            size=25,\n",
        "            color=\"black\"\n",
        "        )),\n",
        "        font = dict(\n",
        "            family = \" Courier New \",\n",
        "            size = 15),\n",
        "        autosize = False,\n",
        "        width = 1000,\n",
        "        height = 1000\n",
        "        )\n",
        "\n",
        "\n",
        "    plot_figure = go.Figure(data = data, layout = layout)\n",
        "    plot_figure.show()\n",
        "    \n",
        "user_input = ['richest', 'taller', 'stronger', 'cheapest']\n",
        "similar_word = \"large largest rich early earlier tall tough tougher strong safe safest cheap\".split() + user_input\n",
        "display_pca_scatterplot_3D(modelw2v_100, user_input, similar_word, labels, color_map)"
      ]
    },
    {
      "attachments": {},
      "cell_type": "markdown",
      "metadata": {
        "id": "BmdZW-BNuBRU"
      },
      "source": [
        "From the above diagram, we can see how the answer words are positioned with respect to the words which make up the question terms. Out of the 4 question answer pairs visualized here, only one word pair was far from the answer term, i.e.,'taller' is far from its question terms.\n",
        "Previously, when we tried to use the same model to compute vector offset method based distance, we werent able to arrive at a clear answer, but in this 3D perspective, we can see clearly the relationships.\n",
        "\n",
        " This is an excellent form of visualization in a 3D perspective to see how far each of the context words are in this dataset.\n",
        "\n",
        "Thanks to Plotly, we can visualise only 1 word or 2 words at a time with its context question terms, by clicking on the legend in the figure above.\n",
        "\n",
        "All the above functionalities are possible, when Plotly is run on a system, but it cant be made static, hence have added snaps of the figure, in the form of newplot_x.png in Github, please review them too.\n"
      ]
    },
    {
      "cell_type": "markdown",
      "metadata": {
        "_uuid": "ec2e2a80dc6a5b1b5dcee7ba8ce4438fcce8cd73",
        "id": "Tcw5WWsMprMu"
      },
      "source": [
        "\n",
        "## When can we use Word2Vec? <a name=\"usage\"></a>\n",
        "\n",
        "There are many application scenarios for Word2Vec: sentiment analysis, recommender systems, etc. For example, imagine that you have tags for a large amount of tweets in Twitter. Given a tag, you want to find similar tags in order to recommend them to a user for exploration. You can do this by treating each set of co-occuring tags as a \"sentence\" and train a Word2Vec model on this data. "
      ]
    },
    {
      "cell_type": "code",
      "execution_count": null,
      "metadata": {
        "id": "tF-EF022vNh4"
      },
      "outputs": [],
      "source": []
    }
  ],
  "metadata": {
    "colab": {
      "provenance": []
    },
    "kernelspec": {
      "display_name": "Python 3",
      "language": "python",
      "name": "python3"
    },
    "language_info": {
      "codemirror_mode": {
        "name": "ipython",
        "version": 3
      },
      "file_extension": ".py",
      "mimetype": "text/x-python",
      "name": "python",
      "nbconvert_exporter": "python",
      "pygments_lexer": "ipython3",
      "version": "3.6.6"
    }
  },
  "nbformat": 4,
  "nbformat_minor": 0
}
